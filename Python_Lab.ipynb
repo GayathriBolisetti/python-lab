{
  "nbformat": 4,
  "nbformat_minor": 0,
  "metadata": {
    "colab": {
      "name": "Python Lab.ipynb",
      "provenance": [],
      "collapsed_sections": [],
      "authorship_tag": "ABX9TyPRk8ExLiHdkTc0vHBtujRi",
      "include_colab_link": true
    },
    "kernelspec": {
      "name": "python3",
      "display_name": "Python 3"
    },
    "language_info": {
      "name": "python"
    }
  },
  "cells": [
    {
      "cell_type": "markdown",
      "metadata": {
        "id": "view-in-github",
        "colab_type": "text"
      },
      "source": [
        "<a href=\"https://colab.research.google.com/github/GayathriBolisetti/python-lab/blob/main/Python_Lab.ipynb\" target=\"_parent\"><img src=\"https://colab.research.google.com/assets/colab-badge.svg\" alt=\"Open In Colab\"/></a>"
      ]
    },
    {
      "cell_type": "markdown",
      "metadata": {
        "id": "idGcNg64iBlI"
      },
      "source": [
        "NAME: B.Gayathri\n",
        " \n",
        "REG NO:19A21A0572\n",
        " \n",
        "SECTION: CSE-B"
      ]
    },
    {
      "cell_type": "markdown",
      "metadata": {
        "id": "R2n-j8GWiSe0"
      },
      "source": [
        "  EXCERSICE-1(Basics)"
      ]
    },
    {
      "cell_type": "markdown",
      "metadata": {
        "id": "6sz9SPcpJMdm"
      },
      "source": [
        "A.Write a program in interactive,interpreter,python script mode\n"
      ]
    },
    {
      "cell_type": "markdown",
      "metadata": {
        "id": "9attaCU2I5BA"
      },
      "source": [
        "Aim -To Write a program in interactive,interpreter,python script mode"
      ]
    },
    {
      "cell_type": "markdown",
      "metadata": {
        "id": "6w__ldFfPGPR"
      },
      "source": [
        "Description"
      ]
    },
    {
      "cell_type": "markdown",
      "metadata": {
        "id": "6SZPNeAiI6_A"
      },
      "source": [
        "Interactive Mode - The interactive mode involves running your code directly on the python shell which can be accessed from the terminal of the operating system\n",
        " \n",
        "Interpreter - It converts source code written by user into intermediate language which is again translated into machine language \n",
        " \n",
        "Script Mode- In Script mode,you written your code in a text file and then save it by .py extension which stands for \"python\""
      ]
    },
    {
      "cell_type": "markdown",
      "metadata": {
        "id": "ayHrnnF9y0z-"
      },
      "source": [
        "Code"
      ]
    },
    {
      "cell_type": "code",
      "metadata": {
        "colab": {
          "base_uri": "https://localhost:8080/"
        },
        "id": "f1wa5sj2iUtr",
        "outputId": "08321032-b8c7-4e6b-a0ce-b1a7df486a7e"
      },
      "source": [
        " a=78\n",
        "b=89\n",
        "a,b=b,a\n",
        "print(a,b)"
      ],
      "execution_count": null,
      "outputs": [
        {
          "output_type": "stream",
          "text": [
            "89 78\n"
          ],
          "name": "stdout"
        }
      ]
    },
    {
      "cell_type": "markdown",
      "metadata": {
        "id": "iyJea0aNd4ZM"
      },
      "source": [
        " B.Write a program to purposefully raise Indentation Error and Correct it"
      ]
    },
    {
      "cell_type": "markdown",
      "metadata": {
        "id": "mlfRTcnDzByx"
      },
      "source": [
        "Aim- To write a program to purposefully raise indentation error and correct it"
      ]
    },
    {
      "cell_type": "markdown",
      "metadata": {
        "id": "Y42ZDZkCzNQv"
      },
      "source": [
        "Description"
      ]
    },
    {
      "cell_type": "markdown",
      "metadata": {
        "id": "POC94U4lzQ1G"
      },
      "source": [
        "Indentation Error-- Indentation error occurs when spaces or tabs are not placed properly"
      ]
    },
    {
      "cell_type": "markdown",
      "metadata": {
        "id": "UqDKiBxVFO-H"
      },
      "source": [
        "With Error"
      ]
    },
    {
      "cell_type": "code",
      "metadata": {
        "id": "rWe71vklik1u",
        "colab": {
          "base_uri": "https://localhost:8080/",
          "height": 128
        },
        "outputId": "6efe65da-2d9c-4d55-c07d-29cbe5db366d"
      },
      "source": [
        " print(\"welcome to python\") \n",
        " a=20\n",
        " b=30\n",
        " print(\"the value of a:\",a) \n",
        " print(\"the value of b:\",b) \n",
        " if(a>b) \n",
        " print(\"a is big\") \n",
        " print(\"if block ends\")\n",
        " else:\n",
        "        print(\"b is big\")\n",
        "        print(\"else block ends\")"
      ],
      "execution_count": null,
      "outputs": [
        {
          "output_type": "error",
          "ename": "SyntaxError",
          "evalue": "ignored",
          "traceback": [
            "\u001b[0;36m  File \u001b[0;32m\"<ipython-input-2-324030c17212>\"\u001b[0;36m, line \u001b[0;32m6\u001b[0m\n\u001b[0;31m    if(a>b)\u001b[0m\n\u001b[0m            ^\u001b[0m\n\u001b[0;31mSyntaxError\u001b[0m\u001b[0;31m:\u001b[0m invalid syntax\n"
          ]
        }
      ]
    },
    {
      "cell_type": "markdown",
      "metadata": {
        "id": "o_YVJVxWFTvd"
      },
      "source": [
        "Without Error"
      ]
    },
    {
      "cell_type": "code",
      "metadata": {
        "colab": {
          "base_uri": "https://localhost:8080/"
        },
        "id": "jan64rAtizBH",
        "outputId": "c2ed277b-bf1d-4cc4-a0eb-4ce3e1a1a893"
      },
      "source": [
        " print(\"welcome to python\")\n",
        "a=20\n",
        "b=30\n",
        "print(\"the value of a:\",a)\n",
        "print(\"the value of b :\",b)\n",
        "if(a>b):\n",
        "       print(\"a is big\");\n",
        "       print(\"if block ends\")\n",
        "else:\n",
        "            print(\"b is big\")\n",
        "            print(\"else block ends\")"
      ],
      "execution_count": null,
      "outputs": [
        {
          "output_type": "stream",
          "name": "stdout",
          "text": [
            "welcome to python\n",
            "the value of a: 20\n",
            "the value of b : 30\n",
            "b is big\n",
            "else block ends\n"
          ]
        }
      ]
    },
    {
      "cell_type": "markdown",
      "metadata": {
        "id": "AwHACwAsi5Mv"
      },
      "source": [
        " EXERCISE-2(operations)\n",
        "\n",
        "A.COMPUTE DISTANCE BETWEEN TWO POINTS\n",
        "\n"
      ]
    },
    {
      "cell_type": "markdown",
      "metadata": {
        "id": "1V9IJ7cpFtyS"
      },
      "source": [
        "Aim-To compute distance between two points"
      ]
    },
    {
      "cell_type": "markdown",
      "metadata": {
        "id": "VwFjDAZ5Taad"
      },
      "source": [
        "Taking Input From the User: A function is defined as a block of organized, reusable code used to\n",
        "perform a single, related action. Python has many built-in functions; you can also create your\n",
        "own.\n",
        "Python has an input function which lets you ask a user for some text input. You call this function\n",
        "to tell the program to stop and wait for the user to key in the data.\n",
        "In Python 2, you have a built-in function raw_input(), whereas in Python 3, you have input(). The\n",
        "program will resume once the user presses the ENTER or RETURN key.\n",
        "Input Function\n",
        "input(prompt=None,/).\n",
        "Read a string from standard input. The trailing newline is stripped.\n",
        "The prompt string, if given, is printed to standard output without a trailing newline before reading\n",
        "input.\n",
        "If the user hits EOF (*nix: Ctrl-D, Windows: Ctrl Z+Return), raise EOFError."
      ]
    },
    {
      "cell_type": "markdown",
      "metadata": {
        "id": "LwNObdv2GKbI"
      },
      "source": [
        "Code"
      ]
    },
    {
      "cell_type": "code",
      "metadata": {
        "colab": {
          "base_uri": "https://localhost:8080/"
        },
        "id": "BgCDxP99i6-0",
        "outputId": "af836ab7-eea7-427d-88a8-79bbfb017e7e"
      },
      "source": [
        "x1=10\n",
        "x2=80\n",
        "y1=12\n",
        "y2=20\n",
        "z=(pow((x2-x1),2)+pow((y2-y1),2))**0.5\n",
        "print(z)"
      ],
      "execution_count": null,
      "outputs": [
        {
          "output_type": "stream",
          "text": [
            "70.45565981523414\n"
          ],
          "name": "stdout"
        }
      ]
    },
    {
      "cell_type": "code",
      "metadata": {
        "colab": {
          "base_uri": "https://localhost:8080/"
        },
        "id": "dBzigAXZHn9o",
        "outputId": "4385c1b3-33df-4cb4-ff0d-7a4928456d65"
      },
      "source": [
        "60\n",
        "import math\n",
        "x1=int(input(\"enter  x1 value:\"))\n",
        "x2=int(input(\"enter  x2 value:\"))\n",
        "y1=int(input(\"enter  y1 value:\"))\n",
        "y2=int(input(\"enter  y2 value:\"))\n",
        "z=math.sqrt((x2-x1)**2+(y2-y1)**2)\n",
        "print(\"The distance between two points is :\",z)\n",
        "print(\"The distance between two points is :\",z,sep='\\t')\n",
        "print(\"The distance between ({}, {})and ({},{}) is  :{}\".format(x1,y1,x2,y2,z))\n",
        " \n",
        "print(\"The distance between (%d, %d)and (%d,%d) is  :%f\"%(x1,y1,x2,y2,z))"
      ],
      "execution_count": null,
      "outputs": [
        {
          "output_type": "stream",
          "name": "stdout",
          "text": [
            "enter  x1 value:21\n",
            "enter  x2 value:32\n",
            "enter  y1 value:26\n",
            "enter  y2 value:52\n",
            "The distance between two points is : 28.231188426986208\n",
            "The distance between two points is :\t28.231188426986208\n",
            "The distance between (21, 26)and (32,52) is  :28.231188426986208\n",
            "The distance between (21, 26)and (32,52) is  :28.231188\n"
          ]
        }
      ]
    },
    {
      "cell_type": "markdown",
      "metadata": {
        "id": "rYjAN-w6GqxD"
      },
      "source": [
        "B.TAKE TWO NUMBERS ON COMMAND LINE ARGUMENTS AND PRINT THE SUM. "
      ]
    },
    {
      "cell_type": "markdown",
      "metadata": {
        "id": "uSOZ6CbjGvZO"
      },
      "source": [
        "Aim- To Take Two Numbers On Command Line Arguments and Print the sum"
      ]
    },
    {
      "cell_type": "markdown",
      "metadata": {
        "id": "S7T8_WLuG7kH"
      },
      "source": [
        "Description"
      ]
    },
    {
      "cell_type": "markdown",
      "metadata": {
        "id": "H_mBDBaUG9tA"
      },
      "source": [
        "Command Line Arguments-- The arguments that are given after the name of the program in the command line shell of the operating system"
      ]
    },
    {
      "cell_type": "code",
      "metadata": {
        "id": "n3YAO4tcjlY4"
      },
      "source": [
        " import sys\n",
        "a=sys.argv[1]\n",
        "b=sys.argv[2]\n",
        "sum=int(a)+int(b)\n",
        "print(\"sum of two number is:\",sum)"
      ],
      "execution_count": null,
      "outputs": []
    },
    {
      "cell_type": "markdown",
      "metadata": {
        "id": "UQ25WBxmjyq_"
      },
      "source": [
        " EXCERSCISE-3\n",
        "A) Write a Program for checking whether the given number is an even number or not.\n",
        " "
      ]
    },
    {
      "cell_type": "markdown",
      "metadata": {
        "id": "R9Y_TjLgIYPA"
      },
      "source": [
        "Aim- To write a program for checking whether the given number is an even number or not"
      ]
    },
    {
      "cell_type": "code",
      "metadata": {
        "colab": {
          "base_uri": "https://localhost:8080/"
        },
        "id": "QxxltqiYj_EF",
        "outputId": "dfd62d39-3dfa-41fd-eb7c-e21adf7df516"
      },
      "source": [
        " n=int(input(\"enter a number:\"))\n",
        "if (n%2)==0:\n",
        "        print(\"given number is even\")\n",
        "else:\n",
        "      print(\"given number is odd\")"
      ],
      "execution_count": null,
      "outputs": [
        {
          "output_type": "stream",
          "text": [
            "enter a number:15\n",
            "given number is odd\n"
          ],
          "name": "stdout"
        }
      ]
    },
    {
      "cell_type": "markdown",
      "metadata": {
        "id": "d2UTXjpgJfGy"
      },
      "source": [
        "B)Using a for loop, write a program that prints out the decimal equivalents of 1/2, 1/3, 1/4, . . .1/10"
      ]
    },
    {
      "cell_type": "markdown",
      "metadata": {
        "id": "TNHIrYgJKXlO"
      },
      "source": [
        "Aim-- To write a program that prints out the decimal equivalents of 1/2,1/3,1/4,...1/10 using a for loop"
      ]
    },
    {
      "cell_type": "markdown",
      "metadata": {
        "id": "0phVZjMgJvbY"
      },
      "source": [
        "Description \n",
        "For Loop--A for loop runs a block of code until the loop has iterated over every iten in an iterable"
      ]
    },
    {
      "cell_type": "code",
      "metadata": {
        "colab": {
          "base_uri": "https://localhost:8080/"
        },
        "id": "fCYWPEXkkGzV",
        "outputId": "1a419b00-5662-4691-b2fe-2ff01cd99a64"
      },
      "source": [
        " n=int(input(\"enter a number:\"))\n",
        "for i in range(2,n):\n",
        "    de=1/i;\n",
        "    print(\"1/\",i,\"=\",de)"
      ],
      "execution_count": null,
      "outputs": [
        {
          "output_type": "stream",
          "text": [
            "enter a number:6\n",
            "1/ 2 = 0.5\n",
            "1/ 3 = 0.3333333333333333\n",
            "1/ 4 = 0.25\n",
            "1/ 5 = 0.2\n"
          ],
          "name": "stdout"
        }
      ]
    },
    {
      "cell_type": "markdown",
      "metadata": {
        "id": "OTADyluhKsF2"
      },
      "source": [
        "C)Write a program using a for loop that loops over a sequence. What is sequence?"
      ]
    },
    {
      "cell_type": "markdown",
      "metadata": {
        "id": "0Jrd-4wMK7dv"
      },
      "source": [
        "Aim-- To write a program using a for loop that loops over a sequence"
      ]
    },
    {
      "cell_type": "markdown",
      "metadata": {
        "id": "xBUCUdmgLOHR"
      },
      "source": [
        "Description\n",
        "\n",
        "Sequence--It allows you to store multiple values in an organized and effecient fashion"
      ]
    },
    {
      "cell_type": "code",
      "metadata": {
        "id": "DI9IMa6jkV-U",
        "colab": {
          "base_uri": "https://localhost:8080/"
        },
        "outputId": "b226b0d7-0310-40bc-9847-fbb1b8cbf370"
      },
      "source": [
        " #program using a for a loop that loops over a sequence\n",
        "print(\"loop sequence\")\n",
        "num=[45,25,2,28,3,25]\n",
        "for i in num:\n",
        "    print(i)\n",
        " \n",
        "#string sequence\n",
        "print(\"string sequence\")\n",
        "days=[\"sun\",\"mon\",\"tue\",\"wed\",\"thur\",\"fri\",\"st\"]\n",
        "for d in days:\n",
        "    print(d)\n",
        "    \n",
        "#bothh sequence\n",
        "print(\"sequence\")\n",
        "arr=[123,\"abc\",5.6,'h',-33,\"xy\",True]\n",
        "for x in arr:\n",
        "      print(x)"
      ],
      "execution_count": null,
      "outputs": [
        {
          "output_type": "stream",
          "name": "stdout",
          "text": [
            "loop sequence\n",
            "45\n",
            "25\n",
            "2\n",
            "28\n",
            "3\n",
            "25\n",
            "string sequence\n",
            "sun\n",
            "mon\n",
            "tue\n",
            "wed\n",
            "thur\n",
            "fri\n",
            "st\n",
            "sequence\n",
            "123\n",
            "abc\n",
            "5.6\n",
            "h\n",
            "-33\n",
            "xy\n",
            "True\n"
          ]
        }
      ]
    },
    {
      "cell_type": "markdown",
      "metadata": {
        "id": "RsRbhwbpMIac"
      },
      "source": [
        "D) Write a program using a while loop that asks the user for a number, and prints a countdown from that number to zero"
      ]
    },
    {
      "cell_type": "markdown",
      "metadata": {
        "id": "npLGuBDSMN_V"
      },
      "source": [
        "Aim--To write a program using a while loop that asks user for a number and prints a countdown from that number to zero"
      ]
    },
    {
      "cell_type": "markdown",
      "metadata": {
        "id": "Y5N8SHqpMsLj"
      },
      "source": [
        "Description \n"
      ]
    },
    {
      "cell_type": "markdown",
      "metadata": {
        "id": "P2C_g7rXTf9t"
      },
      "source": [
        "While Loop--With the while loop we can execute a set of statements as long as a condition is true"
      ]
    },
    {
      "cell_type": "code",
      "metadata": {
        "colab": {
          "base_uri": "https://localhost:8080/"
        },
        "id": "RskN2310kckZ",
        "outputId": "de9b8320-18dd-4ba4-ab2a-6c768d205b73"
      },
      "source": [
        " #countdown seq\n",
        "n=int(input(\"enter the number:\"))\n",
        "while n>0:\n",
        "      print(n)\n",
        "      n=n-1"
      ],
      "execution_count": null,
      "outputs": [
        {
          "output_type": "stream",
          "name": "stdout",
          "text": [
            "enter the number:5\n",
            "5\n",
            "4\n",
            "3\n",
            "2\n",
            "1\n"
          ]
        }
      ]
    },
    {
      "cell_type": "markdown",
      "metadata": {
        "id": "fiO5OzbGkmLh"
      },
      "source": [
        " EXCERCISE-4\n",
        "\n",
        "a) Find the sum of all the primes below two million. Each new term in the Fibonacci sequence is generated by adding the previous two terms. Bystarting with 1 and 2, the first 10 terms will be: 1, 2, 3, 5, 8, 13, 21, 34, 55, 89,..."
      ]
    },
    {
      "cell_type": "markdown",
      "metadata": {
        "id": "om1GnGWjUKuA"
      },
      "source": [
        "Aim--To find the sum of all the primes below two million. Each new term in the Fibonacci sequence is generated by adding the previous two terms. Bystarting with 1 and 2, the first 10 terms will be: 1, 2, 3, 5, 8, 13, 21, 34, 55, 89, ..."
      ]
    },
    {
      "cell_type": "markdown",
      "metadata": {
        "id": "1-sP5G-eUh2u"
      },
      "source": [
        "Description\n",
        "\n",
        "A Fibonacci sequence is the integer sequence of 0, 1, 1, 2, 3, 5, 8....\n",
        "The first two terms are 0 and 1. All other terms are obtained by adding the preceding two terms.\n",
        "This means to say the nth term is the sum of (n-1)th and (n-2)th term\n",
        "Here, we store the number of terms in nterms. We initialize the first term to 0 and the second\n",
        "term to 1.\n",
        "If the number of terms is more than 2, we use a while loop to find the next term in the sequence\n",
        "by adding the preceding two terms. We then interchange the variables (update it) and continue\n",
        "on with the process."
      ]
    },
    {
      "cell_type": "code",
      "metadata": {
        "colab": {
          "base_uri": "https://localhost:8080/"
        },
        "id": "ZYwcmThIkpQP",
        "outputId": "656b6711-e832-4e4f-a7f3-c44990b02883"
      },
      "source": [
        " n=int(input(\"enter a num:\"))\n",
        "a=0\n",
        "b=1\n",
        "c=a+b\n",
        "st=\"\"\n",
        "sum=0\n",
        "con=0\n",
        "while con<=n:\n",
        "    st+=\"\"+str(c)\n",
        "    sum+=c        \n",
        "    a=b\n",
        "    b=c \n",
        "    c=a+b\n",
        "    con+=1\n",
        "print(st)\n",
        "print(\"sum of fibonacii series:\",sum)"
      ],
      "execution_count": null,
      "outputs": [
        {
          "output_type": "stream",
          "text": [
            "enter a num:6\n",
            "123581321\n",
            "sum of fibonacii series: 53\n"
          ],
          "name": "stdout"
        }
      ]
    },
    {
      "cell_type": "markdown",
      "metadata": {
        "id": "U1ObZAKrUuvP"
      },
      "source": [
        "B)By considering the terms in the Fibonacci sequence whose values do not exceed four million,find the sum of the even-valued terms."
      ]
    },
    {
      "cell_type": "markdown",
      "metadata": {
        "id": "BKPieAqQUyXi"
      },
      "source": [
        "Aim-- To write a program to find the sum of the even-valued terms by considering the terms in the fibonacci sequence whose values do not exceed four million"
      ]
    },
    {
      "cell_type": "markdown",
      "metadata": {
        "id": "i7ppbwJUVN7G"
      },
      "source": [
        "Description\n",
        "\n",
        "A Fibonacci sequence is the integer sequence of 0, 1, 1, 2, 3, 5, 8....\n",
        "The first two terms are 0 and 1. All other terms are obtained by adding the preceding two terms.\n",
        "This means to say the nth term is the sum of (n-1)th and (n-2)th term\n",
        "Here, we store the number of terms in nterms. We initialize the first term to 0 and the second\n",
        "term to 1.\n",
        "If the number of terms is more than 2, we use a while loop to find the next term in the sequence\n",
        "by adding the preceding two terms. We then interchange the variables (update it) and continue\n",
        "on with the process."
      ]
    },
    {
      "cell_type": "code",
      "metadata": {
        "colab": {
          "base_uri": "https://localhost:8080/"
        },
        "id": "YDlztrouk0Ww",
        "outputId": "35d87b77-75f5-4429-9d1e-cd6d3b24f806"
      },
      "source": [
        "  n=int(input(\"enter a number:\"))\n",
        "c=0\n",
        " \n",
        " \n",
        "st=\"\"\n",
        "sum=0\n",
        " \n",
        "for i in range(2,n):\n",
        " state=True\n",
        "for j in range(2,i):\n",
        " if(i%j==0):\n",
        "        state=False\n",
        "        break;\n",
        "if state==True:\n",
        "            st+=\"\"+str(i)\n",
        "            c+=1\n",
        "            sum+=i\n",
        " \n",
        "print(\"prime numbers\")\n",
        "print(st)\n",
        " \n",
        "print(\"total count of the prime numbers:\",c)\n",
        "print(\"sum of all prime nums:\",sum)"
      ],
      "execution_count": null,
      "outputs": [
        {
          "output_type": "stream",
          "text": [
            "enter a number:10\n",
            "prime numbers\n",
            "\n",
            "total count of the prime numbers: 0\n",
            "sum of all prime nums: 0\n"
          ],
          "name": "stdout"
        }
      ]
    },
    {
      "cell_type": "markdown",
      "metadata": {
        "id": "ngn1Ddj8k921"
      },
      "source": [
        " EXCERCISE-5\n",
        "\n",
        "DS\n",
        "\n",
        "A) Write a program to count the numbers of characters in the string and store them in adictionary data structure\n",
        " "
      ]
    },
    {
      "cell_type": "markdown",
      "metadata": {
        "id": "tzmGBe7WVmld"
      },
      "source": [
        "Aim--To write a program to count the numbers of characters in the string and store them in adictionary data structure"
      ]
    },
    {
      "cell_type": "markdown",
      "metadata": {
        "id": "F8Rq6Hj1Vrdb"
      },
      "source": [
        "Description\n",
        "\n",
        "Given a string, the task is to find the frequencies of all the characters in that string and return a  dictionary with key as the character and its value as its frequency in the given string. \n",
        "Method #1 : Naive method \n",
        "Simply iterate through the string and form a key in dictionary of newly occurred element or if  element is already occurred, increase its value by 1. \n",
        "Method #2 : Using collections.Counter() \n",
        "The most suggested method that could be used to find all occurrences is this method, this  actually gets all element frequency and could also be used to print single element frequency if  required. \n"
      ]
    },
    {
      "cell_type": "code",
      "metadata": {
        "colab": {
          "base_uri": "https://localhost:8080/"
        },
        "id": "xq5QSTw6lADO",
        "outputId": "0ffa324e-ede3-4aa0-9c91-a42da103d09e"
      },
      "source": [
        " name=input(\"enter a name:\")\n",
        "dic={}\n",
        "for ch in name:\n",
        "    keys=dic.keys()\n",
        " \n",
        "    if(ch in keys):\n",
        "        dic[ch]=dic[ch]+1\n",
        "    else:\n",
        "        dic[ch]=1\n",
        " \n",
        "print(\"dictionary is:\",dic)"
      ],
      "execution_count": null,
      "outputs": [
        {
          "output_type": "stream",
          "text": [
            "enter a name:Gayathri\n",
            "dictionary is: {'G': 1, 'a': 2, 'y': 1, 't': 1, 'h': 1, 'r': 1, 'i': 1}\n"
          ],
          "name": "stdout"
        }
      ]
    },
    {
      "cell_type": "markdown",
      "metadata": {
        "id": "GvJAEK2zWNZA"
      },
      "source": [
        "B) Write a program to use split and join methods in the string and trace a birthday with adictionary data structure."
      ]
    },
    {
      "cell_type": "markdown",
      "metadata": {
        "id": "BlnWGJAzWV_i"
      },
      "source": [
        "Aim--To write a program to use split and join methods in the string and trace a birthday with adictionary data structure."
      ]
    },
    {
      "cell_type": "markdown",
      "metadata": {
        "id": "d2Cvo9QVXMyE"
      },
      "source": [
        "Description\n",
        "\n",
        "Python program to Split a string based on a delimiter and join the string using another delimiter. \n",
        "Split a string can be quite useful sometimes, especially when you need only certain parts of  strings. A simple yet effective example is splitting the First-name and Last-name of a person. Another application is CSV(Comma Separated Files). We use split to get data from CSV and join  to write data to CSV. \n",
        "In Python, we can use the function split() to split a string and  \n",
        "join() to join a string. \n"
      ]
    },
    {
      "cell_type": "code",
      "metadata": {
        "colab": {
          "base_uri": "https://localhost:8080/"
        },
        "id": "JvZ5SN3flWEl",
        "outputId": "8181c2a5-807e-469a-bd2e-ad5962bd1342"
      },
      "source": [
        " dob={\"Gayathri\":\"26-03-2001\",\"Tulasi\":\"23-01-2003\"}\n",
        "name=input(\"enter which person dob u want:\")\n",
        "l=name.split()\n",
        "birth=\"\"\n",
        "for i in l:\n",
        "    if i in dob.keys():\n",
        "        pers=i\n",
        " \n",
        "print(\"\".join([pers,\"birthday is:\",dob[pers]]))"
      ],
      "execution_count": null,
      "outputs": [
        {
          "output_type": "stream",
          "text": [
            "enter which person dob u want:Gayathri\n",
            "Gayathribirthday is:26-03-2001\n"
          ],
          "name": "stdout"
        }
      ]
    },
    {
      "cell_type": "markdown",
      "metadata": {
        "id": "U31Y7wgXlmjH"
      },
      "source": [
        " EXERCISE-6\n",
        " \n",
        " \n",
        "a) Write a program combinelists that combines these lists into a dictionary.\n",
        " "
      ]
    },
    {
      "cell_type": "markdown",
      "metadata": {
        "id": "hg_fQpPRWioB"
      },
      "source": [
        "Aim--To write a program combine lists that combines these lists into a dictionary."
      ]
    },
    {
      "cell_type": "markdown",
      "metadata": {
        "id": "YjxtXEKyXxhI"
      },
      "source": [
        "Description"
      ]
    },
    {
      "cell_type": "markdown",
      "metadata": {
        "id": "6KwDQ-bLXt4M"
      },
      "source": [
        "For this, simply declare a dictionary, and then run nested loop for both the lists and assign key  and value pairs to from list values to dictionary. \n",
        "Most pythonic and generic method to perform this very task is by using zip(). This function pairs  the list element with other list element at corresponding index in form of key-value pairs. \n"
      ]
    },
    {
      "cell_type": "code",
      "metadata": {
        "colab": {
          "base_uri": "https://localhost:8080/"
        },
        "id": "CcFBMf8qlpvM",
        "outputId": "1440c997-e330-474f-964f-fecb8fc7d08b"
      },
      "source": [
        "  sub=[\"daa\",\"os\",\"dbms\",\"p&s\",\"ppl\",\"se\"]\n",
        "marks=[90,96,89,75,83,74]\n",
        "print(sub)\n",
        "print(marks)\n",
        "dic=dict(zip(sub,marks))\n",
        "print(dic)"
      ],
      "execution_count": null,
      "outputs": [
        {
          "output_type": "stream",
          "text": [
            "['daa', 'os', 'dbms', 'p&s', 'ppl', 'se']\n",
            "[90, 96, 89, 75, 83, 74]\n",
            "{'daa': 90, 'os': 96, 'dbms': 89, 'p&s': 75, 'ppl': 83, 'se': 74}\n"
          ],
          "name": "stdout"
        }
      ]
    },
    {
      "cell_type": "markdown",
      "metadata": {
        "id": "ag8ft_VjW6Xu"
      },
      "source": [
        "B) Write a program to count frequency of characters in a given file. Can you use character frequency to tell whether the given file is a Python program file, C program file or a text file?"
      ]
    },
    {
      "cell_type": "markdown",
      "metadata": {
        "id": "Lb9BUB9hW88I"
      },
      "source": [
        "Aim--To Write a program to count frequency of characters in a given file. "
      ]
    },
    {
      "cell_type": "markdown",
      "metadata": {
        "id": "vI47UUX0X67z"
      },
      "source": [
        "Description\n",
        "\n",
        "approaches to count the number of times a letter appears in a text file in Python.  Method 1: Using the in-built count() method. \n",
        "Approach: \n",
        "1. Read the file. \n",
        "2. Store the content of the file in a variable. \n",
        "3. Use the count() method with the argument as a letter whose frequency is required. 4. Display the count of the letter. \n"
      ]
    },
    {
      "cell_type": "code",
      "metadata": {
        "id": "fiH_p70Sl6n6"
      },
      "source": [
        " filetypes=['.py','.c','.txt']\n",
        "fn=input(\"enter a file name:\")\n",
        "f=open(fn,\"r\")\n",
        "count=dict()\n",
        "for  ft in filetypes:\n",
        "     if(ft in  fn):\n",
        "           if(ft==\".py\"):\n",
        "             print(\"python file\")\n",
        "           elif(ft==\".c\"):\n",
        "             print(\"cfile\")\n",
        "           elif(ft==\".txt\"):\n",
        "             print(\"text file\")\n",
        " \n",
        " \n",
        "for line in f:\n",
        "     for ch in line:\n",
        "          if ch in count:\n",
        "               count[ch]=count[ch]+1\n",
        " \n",
        "          else:\n",
        "              count[ch]=1\n",
        " \n",
        " \n",
        "print(count)\n",
        "f.close()"
      ],
      "execution_count": null,
      "outputs": []
    },
    {
      "cell_type": "markdown",
      "metadata": {
        "id": "8WndborAmbhJ"
      },
      "source": [
        " EXCERCISE-7\n",
        " \n",
        " \n",
        "a) Write a program to print each line of a file in reverse order.\n",
        " "
      ]
    },
    {
      "cell_type": "markdown",
      "metadata": {
        "id": "UTQhPOXrYHjy"
      },
      "source": [
        "Aim--To write a program to print each line of a file in reverse order."
      ]
    },
    {
      "cell_type": "markdown",
      "metadata": {
        "id": "Y_4RM-pqYL2w"
      },
      "source": [
        "Description\n",
        "\n",
        "The file handling plays an important role when the data needs to be stored permanently into the  file. A file is a named location on disk to store related information. We can access the stored information (non-volatile) after the program termination. In Python, files are treated in two  modes as text or binary. The file may be in the text or binary format, and each line of a file is  ended with the special character. Hence, a file operation can be done in the following order. \n",
        "□ Open a file \n",
        "□ Read or write - Performing operation \n",
        "□ Close the file \n"
      ]
    },
    {
      "cell_type": "code",
      "metadata": {
        "id": "Cyci-JpFmkUM"
      },
      "source": [
        " obj=open(\"python.txt\",\"r\")\n",
        "if obj:\n",
        "    st=obj.read()\n",
        "    print(\"file content is:\")\n",
        "obj.close()\n",
        "print()\n",
        "lines=st.split('\\n')\n",
        "for ln in lines:\n",
        "    i=len(ln)-1\n",
        "    while(i>=0):\n",
        "      print(ln[i],end='')\n",
        "      i=i-1\n",
        "    print()"
      ],
      "execution_count": null,
      "outputs": []
    },
    {
      "cell_type": "markdown",
      "metadata": {
        "id": "_Y-t90iKYWow"
      },
      "source": [
        "B)Write a program to compute the number of characters, words and lines in a file."
      ]
    },
    {
      "cell_type": "markdown",
      "metadata": {
        "id": "WWGhIXfEYbGh"
      },
      "source": [
        "Aim--To write a program to compute the number of characters, words and lines in a file."
      ]
    },
    {
      "cell_type": "markdown",
      "metadata": {
        "id": "H8NCgw5JYg-l"
      },
      "source": [
        "Description\n",
        "\n",
        "Given a text file fname, the task is to count the total number of characters, words, spaces and  lines in the file. \n",
        "As we know, Python provides multiple in-built features and modules for handling files. Let’s discuss different ways to calculate total number of characters, words, spaces and lines in a file  using Python. \n",
        "Method #1: Naive approach \n",
        "In this approach, the idea is to solve the task by developing our own logic. Without using any  built-in function of Python, the total number of characters, words, spaces and lines of the file will  be calculated. \n",
        "Method #2: Using some built-in functions and OS module functions \n",
        "In this approach, the idea is to use the os.linesep() method of OS module to separate the lines  on the current platform. When the interpreter’s scanner encounter os.linesep it replaces it with \\n character. After that strip() and split() functions will be used to carry out the task. \n"
      ]
    },
    {
      "cell_type": "code",
      "metadata": {
        "id": "4uXp8dcznNMQ"
      },
      "source": [
        "  obj=open(\"python.txt\",\"r\")\n",
        "if obj:\n",
        "    st=obj.read()\n",
        "    print(\"file content is:\")\n",
        "obj.close()\n",
        "print()\n",
        "nc=nw=nl=0\n",
        "for ch in st:\n",
        "    if(ch):\n",
        "        nc=nc+1\n",
        "    if(ch==''):\n",
        "        nw=nw+1\n",
        "    if(ch=='\\n'):\n",
        "        nl=nl+1\n",
        " \n",
        "print(\"number of characters in a file:\",nc)\n",
        "print(\"number of words in file is:\",nw)\n",
        "print(\"number of lines ins file:\",nl)"
      ],
      "execution_count": null,
      "outputs": []
    },
    {
      "cell_type": "markdown",
      "metadata": {
        "id": "vOitS_qfnUP3"
      },
      "source": [
        " EXCERCISE-8\n",
        " \n",
        "a) Write a function ball collide that takes two balls as parameters and computes if they arecolliding. Your function should return a Boolean representing whether or not the balls arecolliding. Hint: Represent a ball on a plane as a tuple of (x, y, r), r being the radius If (distance between two balls centers) <= (sum of their radii) then (they are colliding)\n",
        " "
      ]
    },
    {
      "cell_type": "markdown",
      "metadata": {
        "id": "TfgUTXH5YyIK"
      },
      "source": [
        "Aim--To write a program that a function ball collide that takes two balls as parameters and computes if they are colliding and function should return a boolean representing whether or not the balls are colliding"
      ]
    },
    {
      "cell_type": "markdown",
      "metadata": {
        "id": "ZG02HFj3ZWcW"
      },
      "source": [
        "Description\n",
        "\n",
        "Functions-- A function in python is a block of code that is defined for doing frequent operations in  a particular task. The general format is \n",
        "def Functionname(arguments): \n",
        "Statements \n",
        "Calling a Function: \n",
        "A function can be called by its name followed by arguments within parenthesis.  function() \n"
      ]
    },
    {
      "cell_type": "code",
      "metadata": {
        "colab": {
          "base_uri": "https://localhost:8080/"
        },
        "id": "Yci0dNwcnZ8j",
        "outputId": "43797bbf-ec6f-4789-f345-73ae972ff556"
      },
      "source": [
        " import math\n",
        "def ballcollide(b1tup,b2tup):\n",
        "    x1=b1tup[0]\n",
        "    y1=b1tup[1]\n",
        "    x2=b2tup[0]\n",
        "    y2=b2tup[1]\n",
        "    r1=b1tup[2]\n",
        "    r2=b2tup[2]\n",
        " \n",
        " \n",
        "    d=math.sqrt((x2-x1)**2+(y2-y1)**2)\n",
        "    if(d<=r1+r2):\n",
        "      return True\n",
        "    else:\n",
        "        return False\n",
        " \n",
        " \n",
        "ball1=(1,2,3)\n",
        "ball2=(3,2,1)\n",
        "c=ballcollide(ball1,ball2)\n",
        "if(c):\n",
        "    print(\"balls are collided\")\n",
        "else:\n",
        "    print(\"ball are not collided\")"
      ],
      "execution_count": null,
      "outputs": [
        {
          "output_type": "stream",
          "text": [
            "balls are collided\n"
          ],
          "name": "stdout"
        }
      ]
    },
    {
      "cell_type": "markdown",
      "metadata": {
        "id": "db_n_ZiiZuNV"
      },
      "source": [
        " B)Find mean, median, mode for the given set of numbers in a list."
      ]
    },
    {
      "cell_type": "markdown",
      "metadata": {
        "id": "lMx41pgVZwr_"
      },
      "source": [
        "Aim-- To find mean, median, mode for the given set of numbers in a list."
      ]
    },
    {
      "cell_type": "markdown",
      "metadata": {
        "id": "1_fNQ8DHZ1of"
      },
      "source": [
        "Description\n",
        "\n",
        "Mean : The mean is the average of all numbers and is sometimes called the arithmetic mean.  This code calculates Mean or Average of a list containing numbers: \n",
        "Median : The median is the middle number in a group of numbers. This code calculates Median  of a list containing numbers: \n",
        "Mode : The mode is the number that occurs most often within a set of numbers. This code  calculates Mode of a list containing numbers: \n",
        "We will import Counter from collections library which is a built-in module in Python 2 and 3. This  module will help us count duplicate elements in a list. We define a list of numbers and calculate  the length of the list. We then call Counter (a dict subclass) which helps to count hashable  objects, and we then convert it to dict object. We then initialize a list with a For Loop to compare  all the dict values (Number of elements) to the max of all dict values (count of most occurring  element) and it returns all the elements equal to max count. If the elements returned are equal to  the number of total elements in a list then we print out ‘No mode’, else we print out the modes  returned. \n"
      ]
    },
    {
      "cell_type": "code",
      "metadata": {
        "id": "7cQ10eIHnmSF",
        "colab": {
          "base_uri": "https://localhost:8080/"
        },
        "outputId": "f5847862-f7d1-4161-fbfa-1e7f99ef989b"
      },
      "source": [
        " def mean(numlist):\n",
        "    return sum(numlist)/len(numlist)\n",
        "def median(numlist):\n",
        "    numlist.sort()\n",
        "    print(numlist)\n",
        "    n=len(numlist)\n",
        "    print(\"total\",n)\n",
        "    mid=n//2\n",
        "    print(\"mid:\",mid)\n",
        "    if(n%2==0):\n",
        "        return numlist[mid]\n",
        "    else:\n",
        "        return (numlist[mid-1]+numlist[mid])/2\n",
        "def mode(numlist):\n",
        "    numlist.sort()\n",
        "    temp=[]\n",
        "    i=0\n",
        "    while i<len(numlist):\n",
        "        temp.append(numlist.count(numlist[i]))\n",
        "        i+=1\n",
        "    dic=dict(zip(numlist,temp))\n",
        "    modes={k for k, v in dic.items() if(v==max(temp))}\n",
        "    return modes\n",
        "list=[1,1,2,2,3,4,5,3,3]\n",
        "print(\"mean of given list:\",mean(list))\n",
        "print(\"median of given list:\",median(list))\n",
        " \n",
        "print(\"mode of given list:\",mode(list))"
      ],
      "execution_count": null,
      "outputs": [
        {
          "output_type": "stream",
          "name": "stdout",
          "text": [
            "mean of given list: 2.6666666666666665\n",
            "[1, 1, 2, 2, 3, 3, 3, 4, 5]\n",
            "total 9\n",
            "mid: 4\n",
            "median of given list: 2.5\n",
            "mode of given list: {3}\n"
          ]
        }
      ]
    },
    {
      "cell_type": "markdown",
      "metadata": {
        "id": "39cSUTbkn1l3"
      },
      "source": [
        " Exercise - 9\n",
        " \n",
        " \n",
        "a) Write a function nearly equal to test whether two strings are nearly equal. Two strings a and bare nearly equal when a can be generated by a single mutation on b.\n",
        " "
      ]
    },
    {
      "cell_type": "markdown",
      "metadata": {
        "id": "2j__oL69aPST"
      },
      "source": [
        "Aim--To Write a function nearly equal to test whether two strings are nearly equal. Two strings a and bare nearly equal when a can be generated by a single mutation on b."
      ]
    },
    {
      "cell_type": "markdown",
      "metadata": {
        "id": "whJFnqVDaSoI"
      },
      "source": [
        "Description\n",
        "\n",
        "strlen() function is used to check wether the two string are nearly equal or not by basis of the  Length of those Strings\n",
        "len() function is an inbuilt function in Python programming language that returns the length of  the string. \n",
        "len() is a built-in function in python.You can use the len() to get the length of the given string,  array, list, tuple, dictionary, etc. \n",
        "Value: the given value you want the length of. \n",
        "Return value a return an integer value i.e. the length of the given string, or array, or list, or  collections. \n"
      ]
    },
    {
      "cell_type": "code",
      "metadata": {
        "colab": {
          "base_uri": "https://localhost:8080/"
        },
        "id": "roOKwZovn5_2",
        "outputId": "b29350ba-4c6d-4f52-e216-f6b11d56a936"
      },
      "source": [
        " def nearlyeq(str1,str2):\n",
        "    count=0\n",
        "    i=j=0\n",
        "    ss=0\n",
        "    while(i<len(str1)and j<len(str2)):\n",
        "        if(str1[i]!=str2[j]):\n",
        "            count+=1\n",
        "        if(len(str1)>len(str2)):\n",
        "            i+=1\n",
        " \n",
        "        elif(len(str1)==len(str2)):\n",
        "            pass\n",
        "        else:\n",
        "            i-=1     \n",
        "        if(count>1):\n",
        "             ss-=1\n",
        "             \n",
        "        i+=1\n",
        "        j+=1\n",
        "        if(count<2):\n",
        "             ss+=1\n",
        " \n",
        "    return ss\n",
        "s1=input(\"enter a string 1:\")\n",
        "s2=input(\"enter the string2:\")\n",
        "t=nearlyeq(s1,s2)\n",
        "if(t>1):\n",
        "    print(\"nearly equal\")\n",
        "else:\n",
        "    print(\"not nearly equal\")"
      ],
      "execution_count": null,
      "outputs": [
        {
          "output_type": "stream",
          "name": "stdout",
          "text": [
            "enter a string 1:Mam\n",
            "enter the string2:Mam\n",
            "nearly equal\n"
          ]
        }
      ]
    },
    {
      "cell_type": "markdown",
      "metadata": {
        "id": "w4mgXZLXaiwO"
      },
      "source": [
        "B)Write a function dup to find all duplicates in the list."
      ]
    },
    {
      "cell_type": "markdown",
      "metadata": {
        "id": "Dqz7FM8TakRb"
      },
      "source": [
        "Aim--To Write a function dup to find all duplicates in the list."
      ]
    },
    {
      "cell_type": "markdown",
      "metadata": {
        "id": "tIgHuL1NavDE"
      },
      "source": [
        "Description\n",
        "\n",
        "To check if a list contains any duplicate element follow the following steps, \n",
        "\n",
        "1. Add the contents of list in a set.\n",
        "As set contains only unique elements, so no duplicates will be added the the set. \n",
        "2. Compare the size of set and list. \n",
        "If size of list & set is equal then it means no duplicates in list. \n",
        "3. If size of list & set are different then it means yes, there are duplicates in list. \n",
        "\n"
      ]
    },
    {
      "cell_type": "code",
      "metadata": {
        "colab": {
          "base_uri": "https://localhost:8080/"
        },
        "id": "fga8NKtboQ6Q",
        "outputId": "546a7131-08ab-47ad-ef6a-ffa847617dcc"
      },
      "source": [
        " def dup(list):\n",
        "  list1=[]\n",
        "  for i in list:\n",
        "    count=list.count(i)\n",
        "    if(count>1 and (i not in list1)):\n",
        "        list1.append(i)\n",
        "        \n",
        "  print(\"the dups in the list are:\",list1)        \n",
        "list2=[1,2,1,2]\n",
        " \n",
        "dup(list2)"
      ],
      "execution_count": null,
      "outputs": [
        {
          "output_type": "stream",
          "text": [
            "the dups in the list are: [1, 2]\n"
          ],
          "name": "stdout"
        }
      ]
    },
    {
      "cell_type": "markdown",
      "metadata": {
        "id": "A3Nu8OLIbW10"
      },
      "source": [
        "\n",
        "C) Write a function unique to find all the unique elements of a list."
      ]
    },
    {
      "cell_type": "markdown",
      "metadata": {
        "id": "pK4J__HxbfFH"
      },
      "source": [
        "Aim--To Write a function unique to find all the unique elements of a list."
      ]
    },
    {
      "cell_type": "markdown",
      "metadata": {
        "id": "UEIliEeCbilM"
      },
      "source": [
        "Description\n",
        "\n",
        "To find the unique in the list .There is a Specific Method i.e.,  \n",
        "Method : Traversal of list \n",
        "Using traversal, we can traverse for every element in the list and check if the element is in the  unique_list already if it is not over there, then we can append it in the unique_list. \n",
        "This is done using one for loop and other if statement which check if the value is in the unique  list or not which is equivalent to another for loop. \n"
      ]
    },
    {
      "cell_type": "code",
      "metadata": {
        "colab": {
          "base_uri": "https://localhost:8080/"
        },
        "id": "JhuYAntuoahe",
        "outputId": "b1f0c0ed-883c-48f3-fb09-1972854e5a4f"
      },
      "source": [
        " def unique(list1):\n",
        "  list2={}\n",
        " \n",
        "  for i in list1:\n",
        "    c=list1.count(i)\n",
        "    if c==1:\n",
        "      list2[i]=c\n",
        "  print(\"the unique elements in the list are:\",list2)\n",
        " \n",
        "list=[1,2,3,45,45,6,88,88,9]\n",
        "unique(list)"
      ],
      "execution_count": null,
      "outputs": [
        {
          "output_type": "stream",
          "text": [
            "the unique elements in the list are: {1: 1, 2: 1, 3: 1, 6: 1, 9: 1}\n"
          ],
          "name": "stdout"
        }
      ]
    },
    {
      "cell_type": "markdown",
      "metadata": {
        "id": "CfN7Kw54ofkC"
      },
      "source": [
        " Exercise - 10\n",
        " \n",
        " \n",
        "a) Write a function cumulative product to compute cumulative product of a list of numbers.\n",
        " "
      ]
    },
    {
      "cell_type": "markdown",
      "metadata": {
        "id": "9_xqevG4bwuQ"
      },
      "source": [
        "Aim--To Write a function cumulative product to compute cumulative product of a list of numbers."
      ]
    },
    {
      "cell_type": "markdown",
      "metadata": {
        "id": "oPRw5mrlb2yM"
      },
      "source": [
        "Description\n",
        "\n",
        "A cumulative product is a sequence of partial products of a given sequence. For example, the  cumulative products of the sequence. , are , , .. Cumulative products can be implemented in the  Wolfram Language as Rest[FoldList[Times, 1, list]] \n",
        "cumprod(A,1) works on successive elements in the columns of A and returns the  cumulative products of each column. cumprod(A,2) works on successive elements in the  rows of A and returns the cumulative products of each row. \n",
        "umprod() function is used when we want to compute the cumulative product of array elements  over a given axis. Syntax : numpy.cumprod(arr, axis=None, dtype=None, out=None) Parameters :  arr : [array_like] Array containing numbers whose cumulative product is desired. \n"
      ]
    },
    {
      "cell_type": "code",
      "metadata": {
        "id": "--809XGoojBM",
        "colab": {
          "base_uri": "https://localhost:8080/"
        },
        "outputId": "4ace726a-21f7-4aac-8705-e8e8f4758a4d"
      },
      "source": [
        " def cumulative_product(list1,n):\n",
        "    list2=[]\n",
        "    i=0\n",
        "    list2.append(list1[i])\n",
        "    for i in range(1,n):\n",
        "        v=list1[i]*list2[i-1]\n",
        "        list2.append(v)\n",
        "        \n",
        "    print(list2)\n",
        "list3=[]\n",
        "n=int(input(\"enter size :\"))\n",
        "print(\"enter the data:\")\n",
        "for i in range(0,n):\n",
        "    x=int(input())\n",
        "    list3.append(x)\n",
        "cumulative_product(list3,n)"
      ],
      "execution_count": null,
      "outputs": [
        {
          "output_type": "stream",
          "name": "stdout",
          "text": [
            "enter size :2\n",
            "enter the data:\n",
            "1\n",
            "2\n",
            "[1, 2]\n"
          ]
        }
      ]
    },
    {
      "cell_type": "markdown",
      "metadata": {
        "id": "PpfP4WaocCNz"
      },
      "source": [
        "b) Write a function reverse to reverse a list. Without using the reverse function."
      ]
    },
    {
      "cell_type": "markdown",
      "metadata": {
        "id": "wiO2aKaCcDkq"
      },
      "source": [
        "Aim--To Write a function reverse to reverse a list. Without using the reverse function."
      ]
    },
    {
      "cell_type": "markdown",
      "metadata": {
        "id": "BVEZ7dTTcIit"
      },
      "source": [
        "Description\n",
        "\n",
        "In this Python code snippet post, we are going to implement a list reverse function from the  scratch without using any builtin functions. \n",
        "Let us see how…  \n",
        "Iterative solution \n",
        "We can use a for loop to swap the first and last items, the second and the one before the last item and so on until the list is reversed in place. The number of iterations needed is half the list  size. If the list has an odd number of items then the middle item will stay in its place. \n"
      ]
    },
    {
      "cell_type": "code",
      "metadata": {
        "colab": {
          "base_uri": "https://localhost:8080/"
        },
        "id": "6B0dadbjpHVa",
        "outputId": "f0b361c6-20e5-41df-fed4-f2bf69d15de0"
      },
      "source": [
        " def reverse_list(numlist):\n",
        "    temp=list1[::-1]\n",
        "    numlist=temp\n",
        "    return temp\n",
        "list1=[1,2,3,4]\n",
        "print(\"giiven list is :\",list1)\n",
        "print(\"after reverse function:\",reverse_list(list1))\n",
        "print(\"after list is:\",list1)"
      ],
      "execution_count": null,
      "outputs": [
        {
          "output_type": "stream",
          "text": [
            "giiven list is : [1, 2, 3, 4]\n",
            "after reverse function: [4, 3, 2, 1]\n",
            "after list is: [1, 2, 3, 4]\n"
          ],
          "name": "stdout"
        }
      ]
    },
    {
      "cell_type": "markdown",
      "metadata": {
        "id": "SeUFpQM6cWOJ"
      },
      "source": [
        "C)Write function to compute gcd, lcm of two numbers. Each function shouldn’t exceed one line\n",
        "\n"
      ]
    },
    {
      "cell_type": "markdown",
      "metadata": {
        "id": "zJLJ1NXPcYqq"
      },
      "source": [
        "Aim--To write function to compute gcd, lcm of two numbers. Each function shouldn’t exceed one line\n",
        "\n"
      ]
    },
    {
      "cell_type": "markdown",
      "metadata": {
        "id": "RLifdEs8clDt"
      },
      "source": [
        "Description\n",
        "\n",
        "Python provides you an anonymous function called lambda. It can take any number of  arguments, but can only have one expression. It can be used to find LCM and GCD values  without exceeding each from from one line. \n",
        "The general format is \n",
        "lambda arguments: expression \n",
        "The expression is executed during the function call and the result is returned. Lambda as a Function \n",
        "The power of using a lambda expression is implementing it using a function \n"
      ]
    },
    {
      "cell_type": "code",
      "metadata": {
        "id": "HqeZQznTpNGZ",
        "colab": {
          "base_uri": "https://localhost:8080/"
        },
        "outputId": "9cc754ff-fac3-457d-dc26-02d6ec45b22e"
      },
      "source": [
        " gcd=lambda a,b: a if b==0 else gcd(a,a%b)\n",
        "lcm=lambda a,b: (a*b)/gcd(a,b)\n",
        " \n",
        "x=4\n",
        "y=24\n",
        "print(\"gcd=\",gcd(x,y))\n",
        "print(\"lcm=\",lcm(x,y))"
      ],
      "execution_count": null,
      "outputs": [
        {
          "output_type": "stream",
          "text": [
            "gcd= 4\n",
            "lcm= 24.0\n"
          ],
          "name": "stdout"
        }
      ]
    },
    {
      "cell_type": "markdown",
      "metadata": {
        "id": "FGjfO2semYKV"
      },
      "source": [
        " Exercise 11\n",
        " \n",
        "a)Write a program that defines a matrix and prints.\n",
        " "
      ]
    },
    {
      "cell_type": "markdown",
      "metadata": {
        "id": "o00f8oKScwRw"
      },
      "source": [
        "Aim--To Write a program that defines a matrix and prints."
      ]
    },
    {
      "cell_type": "markdown",
      "metadata": {
        "id": "X5314Uv9czIj"
      },
      "source": [
        "Description\n",
        "\n",
        "Lists are a very widely use data structure in python. They contain a list of elements separated by  comma. But sometimes lists can also contain lists within them. These are called nested lists or  multidimensional lists. In this article we will see how to create and access elements in a multidimensional list. \n",
        "Methods on Multidimensional lists \n",
        "1. append(): Adds an element at the end of the list. \n",
        "2. extend(): Add the elements of a list (or any iterable), to the end of the current list. 3. reverse(): Reverses the order of the list\n"
      ]
    },
    {
      "cell_type": "code",
      "metadata": {
        "colab": {
          "base_uri": "https://localhost:8080/"
        },
        "id": "FVoG4gj1mrC9",
        "outputId": "20e62300-2f54-4ae0-e574-7c0a615270a6"
      },
      "source": [
        " \n",
        "matA=[[]]\n",
        "rows=int(input(\"Enter row size of matrix: \"))\n",
        "cols=int(input(\"Enter column size of matrix: \"))\n",
        "matA=[[int(input(\"Enter[%d,%d] value: \"%(i,j)))for j in range(cols)]for i in range(rows)]\n",
        "print(\"matrix is: \")\n",
        "for i in range(rows):\n",
        "  for j in range(cols):\n",
        "    print(matA[i][j],end='\\t')\n",
        "  print()"
      ],
      "execution_count": null,
      "outputs": [
        {
          "output_type": "stream",
          "text": [
            "Enter row size of matrix: 2\n",
            "Enter column size of matrix: 2\n",
            "Enter[0,0] value: 1\n",
            "Enter[0,1] value: 2\n",
            "Enter[1,0] value: 3\n",
            "Enter[1,1] value: 4\n",
            "matrix is: \n",
            "1\t2\t\n",
            "3\t4\t\n"
          ],
          "name": "stdout"
        }
      ]
    },
    {
      "cell_type": "markdown",
      "metadata": {
        "id": "rGo7f4q3c-j7"
      },
      "source": [
        "B)write a program to perform addition of two square matrices"
      ]
    },
    {
      "cell_type": "markdown",
      "metadata": {
        "id": "J6utGTVIdAwv"
      },
      "source": [
        "Aim--To write a program to perform addition of two square matrices"
      ]
    },
    {
      "cell_type": "markdown",
      "metadata": {
        "id": "K_M7rPNhdFRK"
      },
      "source": [
        "Description\n",
        "\n",
        "We can perform matrix addition in following ways in Python. \n",
        "1. Using for loop: \n",
        "Explanation :- In this program we have used nested for loops to iterate through each row and  each column. At each point we add the corresponding elements in the two matrices and store it  in the result. \n",
        "2. Using nested list comprehension : \n",
        "In Python, we can implement a matrix as nested list (list inside a list). We can treat each  element as a row of the matrix. \n"
      ]
    },
    {
      "cell_type": "code",
      "metadata": {
        "colab": {
          "base_uri": "https://localhost:8080/"
        },
        "id": "mouCWr9knoab",
        "outputId": "94088039-8409-4053-cd38-bdcd299e10f5"
      },
      "source": [
        " 4\n",
        "def matRead(r,c):\n",
        "  return[[int(input(\"[%d,%d]value:\"%(i,j)))for j in range(c)]for i in range(r)]\n",
        "def matDisp(mat,r,c):\n",
        "  for i in range(r):\n",
        "    for j in range(c):\n",
        "      print(mat[i][j],end='\\t')\n",
        "    print()\n",
        "matA=[[]]\n",
        "matB=[[]]       \n",
        "matSum=[[]]\n",
        "rows=int(input(\"Enter row size of the matrix: \"))\n",
        "cols=int(input(\"Enter column size of the matrix: \"))\n",
        "if rows==cols:\n",
        "  print(\"Enter Matrix-A elements: \")\n",
        "  matA=matRead(rows,cols)\n",
        " \n",
        "  print(\"Enter Matrix-B elements: \")\n",
        "  matB=matRead(rows,cols)\n",
        " \n",
        "  print(\"Matrix-A is: \")\n",
        "  matDisp(matA,rows,cols)\n",
        " \n",
        "  print(\"Matrix-B is: \")\n",
        "  matDisp(matB,rows,cols)\n",
        "  matSum=[[matA[i][j]+matB[i][j]for j in range(cols)]for i in range(rows)]\n",
        "  print(\"sum of matrices is: \")\n",
        "  matDisp(matSum,rows,cols)\n",
        "else:\n",
        "  print(\"Matrices addition is not possible\")"
      ],
      "execution_count": null,
      "outputs": [
        {
          "output_type": "stream",
          "text": [
            "Enter row size of the matrix: 2\n",
            "Enter column size of the matrix: 2\n",
            "Enter Matrix-A elements: \n",
            "[0,0]value:1\n",
            "[0,1]value:2\n",
            "[1,0]value:3\n",
            "[1,1]value:4\n",
            "Enter Matrix-B elements: \n",
            "[0,0]value:5\n",
            "[0,1]value:6\n",
            "[1,0]value:7\n",
            "[1,1]value:8\n",
            "Matrix-A is: \n",
            "1\t2\t\n",
            "3\t4\t\n",
            "Matrix-B is: \n",
            "5\t6\t\n",
            "7\t8\t\n",
            "sum of matrices is: \n",
            "6\t8\t\n",
            "10\t12\t\n"
          ],
          "name": "stdout"
        }
      ]
    },
    {
      "cell_type": "markdown",
      "metadata": {
        "id": "xcCLEPiRdXhZ"
      },
      "source": [
        "C) write a program to perform multiplication of two square matrices"
      ]
    },
    {
      "cell_type": "markdown",
      "metadata": {
        "id": "Rc4TgyMSdaIV"
      },
      "source": [
        "Description\n",
        "\n",
        "In Python, we can implement a matrix as nested list (list inside a list).  \n",
        "We can treat each element as a row of the matrix. \n",
        "For example X = [[1, 2], [4, 5], [3, 6]] would represent a 3x2 matrix. \n",
        "The first row can be selected as X[0]. And, the element in first row, first column can be selected  as X[0][0]. \n",
        "Multiplication of two matrices X and Y is defined only if the number of columns in X is equal to  the number of rows Y. \n",
        "If X is a n x m matrix and Y is a m x l matrix then, XY is defined and has the dimension n x l (but  YX is not defined). Here are a couple of ways to implement matrix multiplication in Python. \n"
      ]
    },
    {
      "cell_type": "code",
      "metadata": {
        "colab": {
          "base_uri": "https://localhost:8080/"
        },
        "id": "HmmDaBg_oEwU",
        "outputId": "a3480718-3a1b-4df5-e762-0528054097e1"
      },
      "source": [
        " \n",
        "def  matRead(r,c):  \n",
        "  return[[int(input(\"[%d,%d]value: \"%(i,j)))for j in range(c)]for i in range(r)]\n",
        "def matDisp(mat,r,c):\n",
        "  for i in range(r):\n",
        "    for j in range(c):\n",
        "      print(mat[i][j],end='\\t')\n",
        "matA=[[]]\n",
        "matB=[[]]\n",
        "matMul=[[]]\n",
        "rows=int(input(\"Enter row size of the Matrix: \"))\n",
        "cols=int(input(\"Enter column size of the Matrix: \"))\n",
        " \n",
        "if rows==cols:\n",
        "  print(\"Enter Matrix-A: \")\n",
        "  matA=matRead(rows,cols)\n",
        "  print(\" Enter Matrix-B: \")\n",
        "  matB=matRead(rows,cols)\n",
        " \n",
        "  matMul=[[0 for j in range(cols)]for i in range(rows)]\n",
        "  for i in range(rows):\n",
        "    for j in range(cols):\n",
        "      for k in range(cols):\n",
        "        matMul[i][j]+=matA[i][k]*matB[k][j]\n",
        "  print(\"Matrix-A is: \")\n",
        "  matDisp(matA,rows,cols)\n",
        " \n",
        "  print(\"Matrix-B is: \")\n",
        "  matDisp(matB,rows,cols)\n",
        " \n",
        "  print(\"Multiplication of matrices is: \")\n",
        "  matDisp(matMul,rows,cops)\n",
        "else:\n",
        "  print(\"Matrices Multiplication is not possible is\")"
      ],
      "execution_count": null,
      "outputs": [
        {
          "output_type": "stream",
          "text": [
            "Enter row size of the Matrix: 2\n",
            "Enter column size of the Matrix: 2\n",
            "Enter Matrix-A: \n",
            "[0,0]value: 2\n",
            "[0,1]value: 3\n",
            "[1,0]value: 4\n",
            "[1,1]value: 5\n",
            " Enter Matrix-B: \n",
            "[0,0]value: 3\n",
            "[0,1]value: 2\n",
            "[1,0]value: 1\n",
            "[1,1]value: 6\n",
            "Matrix-A is: \n",
            "2\t3\t4\t5\tMatrix-B is: \n",
            "3\t2\t1\t6\tMultiplication of matrices is: \n",
            "9\t22\t17\t38\t"
          ],
          "name": "stdout"
        }
      ]
    },
    {
      "cell_type": "markdown",
      "metadata": {
        "id": "J9ADVgLRopVE"
      },
      "source": [
        " Exercise 12\n",
        " \n",
        "a) Install package requests,flasks and explore them.using(pip)\n",
        " "
      ]
    },
    {
      "cell_type": "markdown",
      "metadata": {
        "id": "WS-PJ8EBdkLc"
      },
      "source": [
        "Aim--To Install package requests,flasks and explore them.using(pip)"
      ]
    },
    {
      "cell_type": "markdown",
      "metadata": {
        "id": "5_OY8dtadphn"
      },
      "source": [
        "Description\n",
        "\n",
        "Installing the pip Python package manager on Windows If you are on Windows, and your installed Python the current version, you already have pip! If your Python installation is not the  most recent, the easiest thing to do is to simply reinstall it. Download the Python Windows installer at https://www.python.org/downloads/. \n",
        "In Windows, the variable that controls which programs are accessible from the command line is  path. To modify your path to include Python and pip, we have to add C:\\Python27 and C:\\Python27\\Tools. Edit the Windows path by opening the Windows menu, right-clicking  on Computer and clicking on Properties. Under Advanced system settings, click  Environment Variables. Scroll down until you find Path, double-click it, and add ;C:\\Python27;C:\\Python27\\Tools to the end. \n",
        "Installing packages: \n",
        "Suppose you want to install a package called requests (which is used to make HTTP requests).  You need to issue the following command. \n",
        "pip install requests \n",
        "show installed packages \n",
        "You can use the following command to get information about a installed package, i.e Package  name, version, location, dependencies. \n",
        "pip show package_name \n",
        "install flask \n",
        "On Mac and Linux, because you are installing programs outside the user-owned folders, you might have to prepend sudo to the install commands. To install Flask, simply run this: \n",
        "$ pip install flask \n",
        "show installed flask \n",
        "You can use the following command to get information about a installed flask, i.e Package  name, version, location, dependencies \n",
        "$ pip show flask \n",
        "\n"
      ]
    },
    {
      "cell_type": "code",
      "metadata": {
        "id": "_jZy0BeN_CaE"
      },
      "source": [
        " \n",
        "import requests\n",
        " \n",
        "r=requests.get('https://www.google.com')\n",
        " \n",
        "print(\"Statuscode:\",r.status_code)\n",
        " \n",
        "print(\"Header Content:\",r.headers['content-type'])\n",
        "print(r.text)"
      ],
      "execution_count": null,
      "outputs": []
    },
    {
      "cell_type": "markdown",
      "metadata": {
        "id": "AE5LfoZWeCQj"
      },
      "source": [
        "B)write a script that imports requests and fetch content from the page.Eg(wiki)"
      ]
    },
    {
      "cell_type": "markdown",
      "metadata": {
        "id": "BlbErTkZeGhS"
      },
      "source": [
        "Aim--To write a script that imports requests and fetch content from the page.Eg(wiki)"
      ]
    },
    {
      "cell_type": "markdown",
      "metadata": {
        "id": "Ko87Z9KCeJWc"
      },
      "source": [
        "Description\n",
        "\n",
        "The Hypertext Transfer Protocol (HTTP) is an application protocol for distributed, collaborative,  hypermedia information systems. HTTP is the foundation of data communication for the World  Wide Web. \n",
        "Python requests \n",
        "Requests is a simple and elegant Python HTTP library. It provides methods for accessing Web  resources via HTTP. \n",
        "Python requests reading a web page \n",
        "The get() method issues a GET request; it fetches documents identified by the given URL. "
      ]
    },
    {
      "cell_type": "code",
      "metadata": {
        "id": "5LkeZZkyfGpZ"
      },
      "source": [
        "import requests  \n",
        "r=requests.get('https://www.google.com')  \n",
        "print(\"Statuscode: \",r.status_code) \n",
        "print(\"Header Content: \",r.headers['content-type'])  \n",
        "print(r.text) \n",
        "Statuscode: 200 \n",
        "Header Content: text/html; charset=ISO-8859-1 \n",
        "<!doctype html><html itemscope=\"\" itemtype=\"http://schema.org/WebPage\" lang=\"en\"><head><meta content=\"Se \n",
        "https://colab.research.google.com/drive/15Ilt0v0DcgePNNXVQqZ44BavYiiGFhVl#scrollTo=cz7tUzy8UR8r&printMode=true 29/61 \n",
        "9/5/2021 Poojitha-20A25A0508-phython lab programs.ipynab - Colaboratory \n",
        "\n",
        "var f=this||self;var h,k=[];function l(a){for(var b;a&&(!a.getAttribute||!(b=a.getAttribute(\"eid\")));)a=a.parentNode;r  function n(a,b,c,d,g){var e=\"\";c||-1!==b.search(\"&ei=\")||(e=\"&ei=\"+l(d),-1===b.search(\"&lei=\")&&(d=m(d))&&(e  google.y={};google.sy=[];google.x=function(a,b){if(a)var c=a.id;else{do c=Math.random();while(google.y[c])}goo  document.documentElement.addEventListener(\"submit\",function(b){var a;if(a=b.target){var c=a.getAttribute(\"data \n",
        "</style><style>body,td,a,p,.h{font-family:arial,sans-serif}body{margin:0;overflow-y:scroll}#gog{padding:3px 8px  if (!iesg){document.f&&document.f.q.focus();document.gbqf&&document.gbqf.q.focus();} } \n",
        "})();</script><div id=\"mngb\"><div id=gbar><nobr><b class=gb1>Search</b> <a class=gb1 href=\"https://www.go else top.location='/doodles/';};})();</script><input value=\"AINFCbYAAAAAYPUQyJatbO4L0hb9Ex1g8iExanOV\n",
        "https://colab.research.google.com/drive/15Ilt0v0DcgePNNXVQqZ44BavYiiGFhVl#scrollTo=cz7tUzy8UR8r&printMode=true 30/61 \n",
        "9/5/2021 Poojitha-20A25A0508-phython lab programs.ipynab - Colaboratory \n",
        "var a,b=\"1\";if(document&&document.getElementById)if(\"undefined\"!=typeof XMLHttpRequest)b=\"2\";else if(\"un  var a=window.innerWidth,b=window.innerHeight;if(!a||!b){var c=window.document,d=\"CSS1Compat\"==c.compat  var e=this||self,f=function(a){return a};var g;var l=function(a,b){this.g=b===h?a:\"\"};l.prototype.toString=function(  function n(a){google.timers&&google.timers.load&&google.tick&&google.tick(\"load\",\"xjsls\");var b=document;va  function _F_installCss(c){}  \n",
        "(function(){google.jl={attn:false,blt:'none',chnk:0,dw:false,emtn:0,end:0,ine:false,lls:'default',pdt:0,rep:0,snet:true,s \n",
        "\n"
      ],
      "execution_count": null,
      "outputs": []
    },
    {
      "cell_type": "markdown",
      "metadata": {
        "id": "FXk1PLM_e7Db"
      },
      "source": [
        "C)write a simple script that serves a simple HTTPResponse and simple HTML page"
      ]
    },
    {
      "cell_type": "markdown",
      "metadata": {
        "id": "0xyhQpfIe9ro"
      },
      "source": [
        "Description\n",
        "\n",
        "HTTP Protocol \n",
        "The most important part of a web server is HTTP protocol.So now we will see what exactly this  is – \n",
        "It stands for Hyper Text Transfer Protocol. \n",
        "It is an application layer protocol that allows web based applications to communicate and  exchange data. \n",
        "The HTTP is the messenger of web. \n",
        "The computer that communicate via the HTTP must speak the HTTP protocol.  It is a TCP/IP based protocol. \n",
        "It is used to deliver contents, for eg. images, audios, videos, documents etc. Using HTTP is the most convenient way to quickly and reliably move data on the web. \n",
        "HTML stands for hypertext markup language. It is the standard markup language for web pages  that define the structure of the content. These elements are the building blocks of any website\n"
      ]
    },
    {
      "cell_type": "code",
      "metadata": {
        "id": "PYmF9hxQ_VTp"
      },
      "source": [
        " \n",
        "from flask import Flask,render_template  \n",
        "app=Flask( name ) \n",
        "print(app)  \n",
        "@app.route(\"/\") \n",
        "def main(): \n",
        "return render_template('abc.html') \n",
        "if name ==\" main \":  \n",
        "app.run(host=\"127.0.0.1\",port=2500) \n",
        "<Flask ' main '>\n",
        "https://colab.research.google.com/drive/15Ilt0v0DcgePNNXVQqZ44BavYiiGFhVl#scrollTo=cz7tUzy8UR8r&printMode=true 31/61 \n",
        "9/5/2021 Poojitha-20A25A0508-phython lab programs.ipynab - Colaboratory \n",
        "* Serving Flask app \" main \" (lazy loading) \n",
        "* Environment: production \n",
        "WARNING: This is a development server. Do not use it in a production deployment.  \n",
        "Use a production WSGI server instead. \n",
        "* Debug mode: off \n",
        "* Running on http://127.0.0.1:2500/ (Press CTRL+C to quit) \n"
      ],
      "execution_count": null,
      "outputs": []
    },
    {
      "cell_type": "markdown",
      "metadata": {
        "id": "ANWV4HCTovip"
      },
      "source": [
        " Exercise 13\n",
        " \n",
        "a)Class variables and instance variables and illsustration of the self variable\n",
        " \n",
        "1)Robot"
      ]
    },
    {
      "cell_type": "markdown",
      "metadata": {
        "id": "2_JsyfHXffg1"
      },
      "source": [
        "Aim--Class variables and instance variables and illsustration of the self variable"
      ]
    },
    {
      "cell_type": "markdown",
      "metadata": {
        "id": "kpdkZEP6fq1H"
      },
      "source": [
        "Description\n",
        "\n",
        "Variables are named storage location. In python variables are not defined by its type instead it  will be automatically determined by the value assigned to it. To determine the type of a variable  a function called type () is used. \n",
        "class variableis shared by all object instances of a class.....They are not defined inside any methods of a class. Because a class variable is shared by instances of a class, the Python class  owns the variable. As a result, all instances of the class will be able to access that variable \n",
        "Instance variables are owned by instances of the class. This means that for each object or instance of a class, the instance variables are different..... Instance variables, owned by objects of the class, allow for each object or instance to have different values assigned to those  variables \n",
        "self variable is used to bind the instance of the class to the instance method. We have to  explicitly declare it as the first method argument to access the instance variables and methods.  This variable is used only with the instance methods. "
      ]
    },
    {
      "cell_type": "code",
      "metadata": {
        "colab": {
          "base_uri": "https://localhost:8080/"
        },
        "id": "KSTq1esUo4Wk",
        "outputId": "aa1efdb4-2ab9-420f-8f7c-00eb995fa49c"
      },
      "source": [
        " \n",
        " \n",
        "class Robot:  \n",
        "what=\"Machine\"  \n",
        "name=\"Chitti\"  \n",
        "version=1.0  \n",
        "speed=\"1THz\"  \n",
        "memory=\"1ZB\" \n",
        "def update(upd):  \n",
        "upd.version=2.0  \n",
        "upd.speed=\"2THz\"  \n",
        "upd.memory=\"2ZB\" \n",
        "def disp(self):\n",
        "https://colab.research.google.com/drive/15Ilt0v0DcgePNNXVQqZ44BavYiiGFhVl#scrollTo=cz7tUzy8UR8r&printMode=true 32/61 \n",
        "9/5/2021 Poojitha-20A25A0508-phython lab programs.ipynab - Colaboratory \n",
        "print(\"Myself is a\",robj.what)  \n",
        "print(\"MyName is a\",robj.name)  \n",
        "print(\"Version:\",robj.version)  \n",
        "print(\"Speed:\",robj.speed)  \n",
        "print(\"Memory:\",robj.memory) \n",
        "robj=Robot ()  \n",
        "robj.disp() \n",
        "print(\"------------Update---------\") \n",
        "robj.update()  \n",
        "robj.disp()\n"
      ],
      "execution_count": null,
      "outputs": [
        {
          "output_type": "stream",
          "text": [
            "Myself is a Machine\n",
            "MyName is a Chitti\n",
            "Version : 1.0\n",
            "Speed :  1THz\n",
            "Memory:  1ZB\n",
            "---------------Update---------\n",
            "Myself is a Machine\n",
            "MyName is a Chitti\n",
            "Version : 2.0\n",
            "Speed :  2THz\n",
            "Memory:  2ZB\n"
          ],
          "name": "stdout"
        }
      ]
    },
    {
      "cell_type": "markdown",
      "metadata": {
        "id": "mCe9CbvWpGmp"
      },
      "source": [
        " 2)ATM Machine"
      ]
    },
    {
      "cell_type": "code",
      "metadata": {
        "colab": {
          "base_uri": "https://localhost:8080/"
        },
        "id": "E4Fp6zU6pIY9",
        "outputId": "ee8220f2-030d-40b0-d5c2-30eaa062e6bb"
      },
      "source": [
        " \n",
        "class ATM:\n",
        "    def __init__(self):\n",
        "        self.balance=0\n",
        "        print(\"New Account\")\n",
        "        \n",
        "    def enquire(self):\n",
        "        print(\"Balance: \",self.balance)\n",
        "        \n",
        "    def deposit(self):\n",
        "        amount=int(input(\"Enter the Deposit Amount:\"))\n",
        "        self.balance+=amount\n",
        "        self.enquire()\n",
        " \n",
        "    def withdraw(self):\n",
        "        amount=int(input(\"Enter the Withdraw Amount: \"))\n",
        "        if self.balance<amount:\n",
        "            print(\"Insufficient Balance.....!\")\n",
        "        else:\n",
        "            self.balance-=amount\n",
        "            self.enquire()\n",
        " \n",
        "aobj=ATM()\n",
        "while(True):\n",
        "    print(\"*****Menu****\")\n",
        "    print(\"1.Deposit\")\n",
        "    print(\"2.Withdarw\")\n",
        "    print(\"3.Balance\")\n",
        "    print(\"0.Exit\")\n",
        "    ch=int(input(\"Enter Your Choice: \"))\n",
        "    if ch==0:\n",
        "        break\n",
        "    elif ch==1:\n",
        "        aobj.deposit()\n",
        "    elif ch==2:\n",
        "        aobj.withdraw()\n",
        "    elif ch==3:\n",
        "        aobj.enquire()\n",
        "    else:\n",
        "        print(\"Invalid choice:\")\n",
        "        pass"
      ],
      "execution_count": null,
      "outputs": [
        {
          "output_type": "stream",
          "text": [
            "New Account\n",
            "*****Menu****\n",
            "1.Deposit\n",
            "2.Withdarw\n",
            "3.Balance\n",
            "0.Exit\n",
            "Enter Your Choice: 1\n",
            "Enter the Deposit Amount:1000\n",
            "Balance:  1000\n",
            "*****Menu****\n",
            "1.Deposit\n",
            "2.Withdarw\n",
            "3.Balance\n",
            "0.Exit\n",
            "Enter Your Choice: 2\n",
            "Enter the Withdraw Amount: 500\n",
            "Balance:  500\n",
            "*****Menu****\n",
            "1.Deposit\n",
            "2.Withdarw\n",
            "3.Balance\n",
            "0.Exit\n",
            "Enter Your Choice: 3\n",
            "Balance:  500\n",
            "*****Menu****\n",
            "1.Deposit\n",
            "2.Withdarw\n",
            "3.Balance\n",
            "0.Exit\n",
            "Enter Your Choice: 0\n"
          ],
          "name": "stdout"
        }
      ]
    },
    {
      "cell_type": "markdown",
      "metadata": {
        "id": "iGJcoKUIppqk"
      },
      "source": [
        " Exercise14:GUI,Graphics\n",
        " \n",
        "1.Write a GUI for an Expression Calculator using tk.\n",
        " \n",
        "2.Write a program to implement the following figures using turtle"
      ]
    },
    {
      "cell_type": "markdown",
      "metadata": {
        "id": "KxUnKtnzf7FD"
      },
      "source": [
        "Aim--To Write a GUI for an Expression Calculator using tk."
      ]
    },
    {
      "cell_type": "markdown",
      "metadata": {
        "id": "BvhSiwdqf_hE"
      },
      "source": [
        "Description\n",
        "\n",
        "Tkinter is a Python package which comes with many functions and methods that can be used to  create an application. In order to create a tkinter application, we generally create an instance of  tkinter frame, i.e., Tk(). It helps to display the root window and manages all the other  components of the tkinter application. We can initialize the tkinter instance by assigning the  variable to it. \n"
      ]
    },
    {
      "cell_type": "code",
      "metadata": {
        "colab": {
          "base_uri": "https://localhost:8080/",
          "height": 666
        },
        "id": "itFGK9LspwFo",
        "outputId": "b14f2241-cab5-49a8-a776-eee59d22ba4b"
      },
      "source": [
        " from tkinter import *  \n",
        "from math import *  \n",
        "win=Tk()  \n",
        "win.geometry(\"312x324\")  \n",
        "win.resizable(0,0)  \n",
        "win.title(\"My Calculator\") \n",
        "def btn_click(item):  \n",
        "global expression \n",
        "expression=expression+str(item)  \n",
        "input_text.set(expression) \n",
        "def bt_clear():  \n",
        "global expression  \n",
        "expression=\"\"  \n",
        "input_text.set(\"\") \n",
        "def bt_equal():  \n",
        "global expression \n",
        "result=str(eval(expression))  \n",
        "input_text.set(result)  \n",
        "expression=\"\" \n",
        "expression=\"\"  \n",
        "input_text=StringVar() \n",
        "input_frame = Frame(win,width=312,height=50,bd=0,highlightbackground=\"black\",  \n",
        "highlightcolor=\"black\",highlightthickness=2) \n",
        "input_frame.pack(side=TOP) \n",
        "input_field = Entry(input_frame,font=('arial',18,'bold'),textvariable=input_text,width=50,bg=\"#eee\",bd=0,justify=RIGHT)  input_field.grid(row=0,column=0) \n",
        "input_field.pack(ipady=10) \n",
        "btns_frame=Frame(win,width=312,height=272.5,bg=\"grey\")  \n",
        "btns_frame.pack()\n",
        " clear=Button(btns_frame,text=\"C\",fg=\"black\",width=32,height=3,bd=0,bg=\"#eee\",cursor=\"hand2\",command=lambda:bt_c  divide=Button(btns_frame,text=\"/\",fg=\"black\",width=10,height=3,bd=0,bg=\"#eee\",cursor=\"hand2\",command=lambda:btn_ \n",
        "seven=Button(btns_frame,text=\"7\",fg=\"black\",width=10,height=3,bd=0,bg=\"#fff\",cursor=\"hand2\",command=lambda:btn_  eight=Button(btns_frame,text=\"8\",fg=\"black\",width=10,height=3,bd=0,bg=\"#fff\",cursor=\"hand2\",command=lambda:btn_c  nine=Button(btns_frame,text=\"9\",fg=\"black\",width=10,height=3,bd=0,bg=\"#fff\",cursor=\"hand2\",command=lambda:btn_cl  multiply=Button(btns_frame,text=\"*\",fg=\"black\",width=10,height=3,bd=0,bg='#eee',cursor=\"hand2\",command=lambda:bt \n",
        "four=Button(btns_frame,text=\"4\",fg=\"black\",width=10,height=3,bd=0,bg=\"#fff\",cursor=\"hand2\",command=lambda:btn_cl  five=Button(btns_frame,text=\"5\",fg=\"black\",width=10,height=3,bd=0,bg=\"#fff\",cursor=\"hand2\",command=lambda:btn_cli  six=Button(btns_frame,text=\"6\",fg=\"black\",width=10,height=3,bd=0,bg=\"#fff\",cursor=\"hand2\",command=lambda:btn_clic  minus=Button(btns_frame,text=\"-\",fg=\"black\",width=10,height=3,bd=0,bg='#eee',cursor=\"hand2\",command=lambda:btn_c \n",
        "one=Button(btns_frame,text=\"1\",fg=\"black\",width=10,height=3,bd=0,bg=\"#fff\",cursor=\"hand2\",command=lambda:btn_cli  two=Button(btns_frame,text=\"2\",fg=\"black\",width=10,height=3,bd=0,bg=\"#fff\",cursor=\"hand2\",command=lambda:btn_cli  three=Button(btns_frame,text=\"3\",fg=\"black\",width=10,height=3,bd=0,bg=\"#fff\",cursor=\"hand2\",command=lambda:btn_c  plus=Button(btns_frame,text=\"+\",fg=\"black\",width=10,height=3,bd=0,bg='#eee',cursor=\"hand2\",command=lambda:btn_cl \n",
        "zero=Button(btns_frame,text=\"0\",fg=\"black\",width=21,height=3,bd=0,bg=\"#fff\",cursor=\"hand2\",command=lambda:btn_cl  point=Button(btns_frame,text=\".\",fg=\"black\",width=10,height=3,bd=0,bg=\"#eee\",cursor=\"hand2\",command=lambda:btn_c  equals=Button(btns_frame,text=\"=\",fg=\"black\",width=10,height=3,bd=0,bg=\"#eee\",cursor=\"hand2\",command=lambda:bt_ \n",
        "win.mainloop() \n"
      ],
      "execution_count": null,
      "outputs": [
        {
          "output_type": "error",
          "ename": "TclError",
          "evalue": "ignored",
          "traceback": [
            "\u001b[0;31m---------------------------------------------------------------------------\u001b[0m",
            "\u001b[0;31mTclError\u001b[0m                                  Traceback (most recent call last)",
            "\u001b[0;32m<ipython-input-8-f30a06b16aa8>\u001b[0m in \u001b[0;36m<module>\u001b[0;34m()\u001b[0m\n\u001b[1;32m      2\u001b[0m \u001b[0mc\u001b[0m\u001b[0;34m=\u001b[0m\u001b[0;34m[\u001b[0m\u001b[0;34m\"red\"\u001b[0m\u001b[0;34m,\u001b[0m\u001b[0;34m\"green\"\u001b[0m\u001b[0;34m,\u001b[0m\u001b[0;34m\"blue\"\u001b[0m\u001b[0;34m]\u001b[0m\u001b[0;34m\u001b[0m\u001b[0;34m\u001b[0m\u001b[0m\n\u001b[1;32m      3\u001b[0m \u001b[0mi\u001b[0m\u001b[0;34m=\u001b[0m\u001b[0;36m0\u001b[0m\u001b[0;34m\u001b[0m\u001b[0;34m\u001b[0m\u001b[0m\n\u001b[0;32m----> 4\u001b[0;31m \u001b[0mturtle\u001b[0m\u001b[0;34m.\u001b[0m\u001b[0mpensize\u001b[0m\u001b[0;34m(\u001b[0m\u001b[0;36m5\u001b[0m\u001b[0;34m)\u001b[0m\u001b[0;34m\u001b[0m\u001b[0;34m\u001b[0m\u001b[0m\n\u001b[0m\u001b[1;32m      5\u001b[0m \u001b[0;34m\u001b[0m\u001b[0m\n\u001b[1;32m      6\u001b[0m \u001b[0;32mfor\u001b[0m \u001b[0mangle\u001b[0m \u001b[0;32min\u001b[0m \u001b[0mrange\u001b[0m\u001b[0;34m(\u001b[0m\u001b[0;36m0\u001b[0m\u001b[0;34m,\u001b[0m\u001b[0;36m360\u001b[0m\u001b[0;34m,\u001b[0m\u001b[0;36m30\u001b[0m\u001b[0;34m)\u001b[0m\u001b[0;34m:\u001b[0m\u001b[0;34m\u001b[0m\u001b[0;34m\u001b[0m\u001b[0m\n",
            "\u001b[0;32m/usr/lib/python3.7/turtle.py\u001b[0m in \u001b[0;36mpensize\u001b[0;34m(width)\u001b[0m\n",
            "\u001b[0;32m/usr/lib/python3.7/turtle.py\u001b[0m in \u001b[0;36m__init__\u001b[0;34m(self, shape, undobuffersize, visible)\u001b[0m\n\u001b[1;32m   3810\u001b[0m                  visible=_CFG[\"visible\"]):\n\u001b[1;32m   3811\u001b[0m         \u001b[0;32mif\u001b[0m \u001b[0mTurtle\u001b[0m\u001b[0;34m.\u001b[0m\u001b[0m_screen\u001b[0m \u001b[0;32mis\u001b[0m \u001b[0;32mNone\u001b[0m\u001b[0;34m:\u001b[0m\u001b[0;34m\u001b[0m\u001b[0;34m\u001b[0m\u001b[0m\n\u001b[0;32m-> 3812\u001b[0;31m             \u001b[0mTurtle\u001b[0m\u001b[0;34m.\u001b[0m\u001b[0m_screen\u001b[0m \u001b[0;34m=\u001b[0m \u001b[0mScreen\u001b[0m\u001b[0;34m(\u001b[0m\u001b[0;34m)\u001b[0m\u001b[0;34m\u001b[0m\u001b[0;34m\u001b[0m\u001b[0m\n\u001b[0m\u001b[1;32m   3813\u001b[0m         RawTurtle.__init__(self, Turtle._screen,\n\u001b[1;32m   3814\u001b[0m                            \u001b[0mshape\u001b[0m\u001b[0;34m=\u001b[0m\u001b[0mshape\u001b[0m\u001b[0;34m,\u001b[0m\u001b[0;34m\u001b[0m\u001b[0;34m\u001b[0m\u001b[0m\n",
            "\u001b[0;32m/usr/lib/python3.7/turtle.py\u001b[0m in \u001b[0;36mScreen\u001b[0;34m()\u001b[0m\n\u001b[1;32m   3660\u001b[0m     else return the existing one.\"\"\"\n\u001b[1;32m   3661\u001b[0m     \u001b[0;32mif\u001b[0m \u001b[0mTurtle\u001b[0m\u001b[0;34m.\u001b[0m\u001b[0m_screen\u001b[0m \u001b[0;32mis\u001b[0m \u001b[0;32mNone\u001b[0m\u001b[0;34m:\u001b[0m\u001b[0;34m\u001b[0m\u001b[0;34m\u001b[0m\u001b[0m\n\u001b[0;32m-> 3662\u001b[0;31m         \u001b[0mTurtle\u001b[0m\u001b[0;34m.\u001b[0m\u001b[0m_screen\u001b[0m \u001b[0;34m=\u001b[0m \u001b[0m_Screen\u001b[0m\u001b[0;34m(\u001b[0m\u001b[0;34m)\u001b[0m\u001b[0;34m\u001b[0m\u001b[0;34m\u001b[0m\u001b[0m\n\u001b[0m\u001b[1;32m   3663\u001b[0m     \u001b[0;32mreturn\u001b[0m \u001b[0mTurtle\u001b[0m\u001b[0;34m.\u001b[0m\u001b[0m_screen\u001b[0m\u001b[0;34m\u001b[0m\u001b[0;34m\u001b[0m\u001b[0m\n\u001b[1;32m   3664\u001b[0m \u001b[0;34m\u001b[0m\u001b[0m\n",
            "\u001b[0;32m/usr/lib/python3.7/turtle.py\u001b[0m in \u001b[0;36m__init__\u001b[0;34m(self)\u001b[0m\n\u001b[1;32m   3676\u001b[0m         \u001b[0;31m# preserved (perhaps by passing it as an optional parameter)\u001b[0m\u001b[0;34m\u001b[0m\u001b[0;34m\u001b[0m\u001b[0;34m\u001b[0m\u001b[0m\n\u001b[1;32m   3677\u001b[0m         \u001b[0;32mif\u001b[0m \u001b[0m_Screen\u001b[0m\u001b[0;34m.\u001b[0m\u001b[0m_root\u001b[0m \u001b[0;32mis\u001b[0m \u001b[0;32mNone\u001b[0m\u001b[0;34m:\u001b[0m\u001b[0;34m\u001b[0m\u001b[0;34m\u001b[0m\u001b[0m\n\u001b[0;32m-> 3678\u001b[0;31m             \u001b[0m_Screen\u001b[0m\u001b[0;34m.\u001b[0m\u001b[0m_root\u001b[0m \u001b[0;34m=\u001b[0m \u001b[0mself\u001b[0m\u001b[0;34m.\u001b[0m\u001b[0m_root\u001b[0m \u001b[0;34m=\u001b[0m \u001b[0m_Root\u001b[0m\u001b[0;34m(\u001b[0m\u001b[0;34m)\u001b[0m\u001b[0;34m\u001b[0m\u001b[0;34m\u001b[0m\u001b[0m\n\u001b[0m\u001b[1;32m   3679\u001b[0m             \u001b[0mself\u001b[0m\u001b[0;34m.\u001b[0m\u001b[0m_root\u001b[0m\u001b[0;34m.\u001b[0m\u001b[0mtitle\u001b[0m\u001b[0;34m(\u001b[0m\u001b[0m_Screen\u001b[0m\u001b[0;34m.\u001b[0m\u001b[0m_title\u001b[0m\u001b[0;34m)\u001b[0m\u001b[0;34m\u001b[0m\u001b[0;34m\u001b[0m\u001b[0m\n\u001b[1;32m   3680\u001b[0m             \u001b[0mself\u001b[0m\u001b[0;34m.\u001b[0m\u001b[0m_root\u001b[0m\u001b[0;34m.\u001b[0m\u001b[0mondestroy\u001b[0m\u001b[0;34m(\u001b[0m\u001b[0mself\u001b[0m\u001b[0;34m.\u001b[0m\u001b[0m_destroy\u001b[0m\u001b[0;34m)\u001b[0m\u001b[0;34m\u001b[0m\u001b[0;34m\u001b[0m\u001b[0m\n",
            "\u001b[0;32m/usr/lib/python3.7/turtle.py\u001b[0m in \u001b[0;36m__init__\u001b[0;34m(self)\u001b[0m\n\u001b[1;32m    432\u001b[0m     \u001b[0;34m\"\"\"Root class for Screen based on Tkinter.\"\"\"\u001b[0m\u001b[0;34m\u001b[0m\u001b[0;34m\u001b[0m\u001b[0m\n\u001b[1;32m    433\u001b[0m     \u001b[0;32mdef\u001b[0m \u001b[0m__init__\u001b[0m\u001b[0;34m(\u001b[0m\u001b[0mself\u001b[0m\u001b[0;34m)\u001b[0m\u001b[0;34m:\u001b[0m\u001b[0;34m\u001b[0m\u001b[0;34m\u001b[0m\u001b[0m\n\u001b[0;32m--> 434\u001b[0;31m         \u001b[0mTK\u001b[0m\u001b[0;34m.\u001b[0m\u001b[0mTk\u001b[0m\u001b[0;34m.\u001b[0m\u001b[0m__init__\u001b[0m\u001b[0;34m(\u001b[0m\u001b[0mself\u001b[0m\u001b[0;34m)\u001b[0m\u001b[0;34m\u001b[0m\u001b[0;34m\u001b[0m\u001b[0m\n\u001b[0m\u001b[1;32m    435\u001b[0m \u001b[0;34m\u001b[0m\u001b[0m\n\u001b[1;32m    436\u001b[0m     \u001b[0;32mdef\u001b[0m \u001b[0msetupcanvas\u001b[0m\u001b[0;34m(\u001b[0m\u001b[0mself\u001b[0m\u001b[0;34m,\u001b[0m \u001b[0mwidth\u001b[0m\u001b[0;34m,\u001b[0m \u001b[0mheight\u001b[0m\u001b[0;34m,\u001b[0m \u001b[0mcwidth\u001b[0m\u001b[0;34m,\u001b[0m \u001b[0mcheight\u001b[0m\u001b[0;34m)\u001b[0m\u001b[0;34m:\u001b[0m\u001b[0;34m\u001b[0m\u001b[0;34m\u001b[0m\u001b[0m\n",
            "\u001b[0;32m/usr/lib/python3.7/tkinter/__init__.py\u001b[0m in \u001b[0;36m__init__\u001b[0;34m(self, screenName, baseName, className, useTk, sync, use)\u001b[0m\n\u001b[1;32m   2021\u001b[0m                 \u001b[0mbaseName\u001b[0m \u001b[0;34m=\u001b[0m \u001b[0mbaseName\u001b[0m \u001b[0;34m+\u001b[0m \u001b[0mext\u001b[0m\u001b[0;34m\u001b[0m\u001b[0;34m\u001b[0m\u001b[0m\n\u001b[1;32m   2022\u001b[0m         \u001b[0minteractive\u001b[0m \u001b[0;34m=\u001b[0m \u001b[0;36m0\u001b[0m\u001b[0;34m\u001b[0m\u001b[0;34m\u001b[0m\u001b[0m\n\u001b[0;32m-> 2023\u001b[0;31m         \u001b[0mself\u001b[0m\u001b[0;34m.\u001b[0m\u001b[0mtk\u001b[0m \u001b[0;34m=\u001b[0m \u001b[0m_tkinter\u001b[0m\u001b[0;34m.\u001b[0m\u001b[0mcreate\u001b[0m\u001b[0;34m(\u001b[0m\u001b[0mscreenName\u001b[0m\u001b[0;34m,\u001b[0m \u001b[0mbaseName\u001b[0m\u001b[0;34m,\u001b[0m \u001b[0mclassName\u001b[0m\u001b[0;34m,\u001b[0m \u001b[0minteractive\u001b[0m\u001b[0;34m,\u001b[0m \u001b[0mwantobjects\u001b[0m\u001b[0;34m,\u001b[0m \u001b[0museTk\u001b[0m\u001b[0;34m,\u001b[0m \u001b[0msync\u001b[0m\u001b[0;34m,\u001b[0m \u001b[0muse\u001b[0m\u001b[0;34m)\u001b[0m\u001b[0;34m\u001b[0m\u001b[0;34m\u001b[0m\u001b[0m\n\u001b[0m\u001b[1;32m   2024\u001b[0m         \u001b[0;32mif\u001b[0m \u001b[0museTk\u001b[0m\u001b[0;34m:\u001b[0m\u001b[0;34m\u001b[0m\u001b[0;34m\u001b[0m\u001b[0m\n\u001b[1;32m   2025\u001b[0m             \u001b[0mself\u001b[0m\u001b[0;34m.\u001b[0m\u001b[0m_loadtk\u001b[0m\u001b[0;34m(\u001b[0m\u001b[0;34m)\u001b[0m\u001b[0;34m\u001b[0m\u001b[0;34m\u001b[0m\u001b[0m\n",
            "\u001b[0;31mTclError\u001b[0m: no display name and no $DISPLAY environment variable"
          ]
        }
      ]
    },
    {
      "cell_type": "markdown",
      "metadata": {
        "id": "YUps6vxdghFo"
      },
      "source": [
        "B)Write a program to implement the following figures using turtle"
      ]
    },
    {
      "cell_type": "markdown",
      "metadata": {
        "id": "YVV3Le_BgiDm"
      },
      "source": [
        "Aim--To Write a program to implement the following figures using turtle"
      ]
    },
    {
      "cell_type": "markdown",
      "metadata": {
        "id": "NEPJ5w_lgvZF"
      },
      "source": [
        "Description\n",
        "\n",
        "The turtle module is an extended reimplementation of the same-named module from the Python  standard distribution up to version Python 2.5. \n",
        "It tries to keep the merits of the old turtle module and to be (nearly) 100% compatible with it.  This means in the first place to enable the learning programmer to use all the commands,  classes and methods interactively when using the module from within IDLE run with the -n  switch. \n",
        "The turtle module provides turtle graphics primitives, in both object-oriented and procedure oriented ways. Because it uses tkinter for the underlying graphics, it needs a version of Python\n"
      ]
    },
    {
      "cell_type": "code",
      "metadata": {
        "id": "LZFhy7pip_S0"
      },
      "source": [
        "import turtle  \n",
        "c=[\"red\",\"green\",\"blue\"]  \n",
        "i=0 \n",
        "turtle.pensize(5) \n",
        "for angle in range(0,360,30):  \n",
        "if i>2: \n",
        "i=0  \n",
        "turtle.color(c[i])  \n",
        "turtle.seth(angle)  \n",
        "turtle.circle(50)  \n",
        "i+=1 \n",
        "\n",
        " "
      ],
      "execution_count": null,
      "outputs": []
    },
    {
      "cell_type": "markdown",
      "metadata": {
        "id": "QM1osfOUqEN7"
      },
      "source": [
        " Exercise 15: Testing\n",
        " \n",
        "a)Write a test case to check the function even numbers which return true on passing a list of all even numbers.\n",
        " "
      ]
    },
    {
      "cell_type": "markdown",
      "metadata": {
        "id": "ZikKFN3yhNyO"
      },
      "source": [
        "Aim--To Write a test case to check the function even numbers which return true on passing a list of all even numbers."
      ]
    },
    {
      "cell_type": "markdown",
      "metadata": {
        "id": "cP0XYJZvGavP"
      },
      "source": [
        "Description \n",
        "\n",
        "TestCase is used to create test cases by subclassing it. The last block of the code at the bottom  allows us to run all the tests just by running the file. Basic terms used in the code : assertEqual() – This statement is used to check if the result obtained is equal to the expected result \n",
        "test case: \n",
        "A test case is a set of conditions which is used to determine whether a system under test works  correctly. \n"
      ]
    },
    {
      "cell_type": "code",
      "metadata": {
        "colab": {
          "base_uri": "https://localhost:8080/"
        },
        "id": "pqNp3427qKPr",
        "outputId": "ffe28b01-0839-4a78-9dd0-53c1b5880b34"
      },
      "source": [
        "def evnNo(num):\n",
        "    stat=True\n",
        " \n",
        "    for i in num:\n",
        "        if i%2 ==1:\n",
        "            stat=False\n",
        "            break\n",
        "    return stat\n",
        "        \n",
        "numbers=[]\n",
        "for i in range(0,2):\n",
        "    numbers.append(int(input(\"Enter a value\")))\n",
        "print(evnNo(numbers))"
      ],
      "execution_count": null,
      "outputs": [
        {
          "output_type": "stream",
          "text": [
            "Enter a value4\n",
            "Enter a value6\n",
            "True\n"
          ],
          "name": "stdout"
        }
      ]
    },
    {
      "cell_type": "markdown",
      "metadata": {
        "id": "FHeVSoX4HTfJ"
      },
      "source": [
        "b) Write a test-case to check the function reverse string which returns the reversed string  \n"
      ]
    },
    {
      "cell_type": "markdown",
      "metadata": {
        "id": "txxtHucSnBaW"
      },
      "source": [
        "Description \n",
        "\n",
        "Python string library does’nt support the in-built “reverse()” as done by other python containers  like list, hence knowing other methods to reverse string can prove to be useful. This article discusses several ways to achieve it. \n",
        "The reversed() returns the reversed iterator of the given string and then its elements are joined empty string separated using join(). And reversed order string is formed.\n"
      ]
    },
    {
      "cell_type": "code",
      "metadata": {
        "id": "BPs9C1X9qnNk",
        "colab": {
          "base_uri": "https://localhost:8080/"
        },
        "outputId": "ef8abe48-e451-4aad-c657-216e2544ee41"
      },
      "source": [
        " \n",
        "def rev_str(st):\n",
        "    return st[::-1]\n",
        " \n",
        "st=\"swarnandhra\"\n",
        "print(\"Given String is: \",st)\n",
        " \n",
        "print(\"Reverse is: \",rev_str(st))"
      ],
      "execution_count": null,
      "outputs": [
        {
          "output_type": "stream",
          "text": [
            "Given String is:  swarnandhra\n",
            "Reverse is:  arhdnanraws\n"
          ],
          "name": "stdout"
        }
      ]
    },
    {
      "cell_type": "markdown",
      "metadata": {
        "id": "XKmomcY59wUT"
      },
      "source": [
        " Exercise - 16 - Advanced\n",
        " \n",
        "a) Build any one classical data structure.\n",
        " "
      ]
    },
    {
      "cell_type": "markdown",
      "metadata": {
        "id": "57hPVNUxHg9_"
      },
      "source": [
        "Aim--Build any one classical data structure."
      ]
    },
    {
      "cell_type": "markdown",
      "metadata": {
        "id": "N9NYu7vEHlQJ"
      },
      "source": [
        "Description\n",
        "\n",
        "What is a Data Structure? \n",
        "Organizing, managing and storing data is important as it enables easier access and eficient modifications. Data Structures allows you to organize your data in such a way that enables you  to store collections of data, relate them and perform operations on them accordingly. \n",
        "Stack Stacks are linear Data Structures which are based on the principle of Last-In-First-Out (LIFO) where data which is entered last will be the first to get accessed. It is built using the array  structure and has operations namely, pushing (adding) elements, popping (deleting) elements  and accessing elements only from one point in the stack called as the TOP. This TOP is the  pointer to the current position of the stack. Stacks are prominently used in applications such as  Recursive Programming, reversing words, undo mechanisms in word editors and so forth. \n"
      ]
    },
    {
      "cell_type": "code",
      "metadata": {
        "id": "Gdb_lfOt-SX9"
      },
      "source": [
        " \n",
        "import sys\n",
        "a=[]\n",
        "while True: \n",
        "print(\"1.PUSH 2.POP 3.DISPLAY 4.EXIT\")\n",
        " ch=int(input(\"Enter Your Choice: \"))\n",
        "if ch==1:\n",
        "    ele=int(input(\"Enter element: \"))\n",
        "    a.append(ele).\n",
        "    print (\"Inserted\") \n",
        "elif ch==2:\n",
        "  if len(a)==0: \n",
        "     print(\"\\t STACK IS EMPTY\")\n",
        "  else:\n",
        "     print(\"Deleted element is: \", a[len(a)-1])\n",
        "     a.remove (a [len (a) -1])\n",
        "elif ch==3:\n",
        "  if len(a)==0:\n",
        "     print(\"\\t STACK IS EMPTY\")\n",
        "  else:\n",
        "     print(\"\\tThe Elements in Stack is: \") \n",
        "     for i in reversed(a):\n",
        "       print (i)\n",
        "elif ch==4: \n",
        "   sys.exit()\n",
        "else: \n",
        "   print(\"\\tINVALID CHOICE\")"
      ],
      "execution_count": null,
      "outputs": []
    },
    {
      "cell_type": "markdown",
      "metadata": {
        "id": "CsKyiTW8HzL4"
      },
      "source": [
        "b) Write a program to solve knapsack problem"
      ]
    },
    {
      "cell_type": "markdown",
      "metadata": {
        "id": "2IWBuFrNH0nk"
      },
      "source": [
        "Aim--To Write a program to solve knapsack problem"
      ]
    },
    {
      "cell_type": "markdown",
      "metadata": {
        "id": "XY-Z5F05H5aQ"
      },
      "source": [
        "Description\n",
        "\n",
        "Enter Element: 4  \n",
        "Inserted \n",
        "Python Program for 0-1 Knapsack Problem \n",
        "1.PUSH 2.POP 3.DISPLAY 4.EXIT \n",
        "Problem statement − We are given weights and values of n items, we need to put these items in  \n",
        "Enter Your Choice:3 \n",
        "The Elements in Stack is: \n",
        "a bag of capacity W up to the maximum capacity w. We need to carry a maximum number of 4 \n",
        "items and return its  \n",
        "16 \n",
        "10 \n",
        "value. Brute-force  \n",
        "5 \n",
        "approach. \n",
        "1.PUSH 2.POP 3.DISPLAY 4.EXIT \n",
        "Enter Your Choice:2 \n",
        "dynamic approach. \n",
        "Deleted element is: 4 \n"
      ]
    },
    {
      "cell_type": "code",
      "metadata": {
        "id": "wDjmwqpA-cVu"
      },
      "source": [
        " \n",
        "def knapSack(W,wt,val,n): \n",
        " K=[[0 for x in range(W+1)] for x in range(n+1)]\n",
        "for i in range(n+1):\n",
        "  for w in range(W+1):\n",
        "   if i==0orw==0:\n",
        "      K[i][w]=0\n",
        "   elif wt[i-1]<=w:\n",
        "      K[i][w]=max(val[i-1]+ K[i-1][w-wt[i-1]],K[i-1][w]) \n",
        "   else:\n",
        "      K[i][w]=K[i-1][w]\n",
        "return K[n][W]\n",
        "val= [5,3,4]\n",
        "wt=[3,2,1]\n",
        "W=5\n",
        "n=len(val)\n",
        "print(\"Maximum value knapsack of capacity W: \",knapSack(W, wt, val, n))"
      ],
      "execution_count": null,
      "outputs": []
    },
    {
      "cell_type": "markdown",
      "metadata": {
        "id": "Ub02FMie-nVV"
      },
      "source": [
        " Exercise - 17-Data Analysis\n",
        " \n",
        "Data analysis or manipulation using the following packages\n",
        " \n",
        "a) Numpy b) Pandas"
      ]
    },
    {
      "cell_type": "markdown",
      "metadata": {
        "id": "TkNE3q4-Iirb"
      },
      "source": [
        "Aim--Data analysis or manipulation using the following packages\n",
        "\n",
        "a) Numpy b) Pandas"
      ]
    },
    {
      "cell_type": "markdown",
      "metadata": {
        "id": "5UcVyt7FIwi6"
      },
      "source": [
        "Description\n",
        "\n",
        " \n",
        "Learn how to analyze data using Python..... It includes following parts: Data Analysis libraries: will learn to use Pandas, Numpy and Scipy libraries to work with a sample dataset. We will introduce you to pandas, an open-source library, and we will use it to load, manipulate, analyze,  and visualize cool datasets. \n",
        "SciPy is a free and open-source Python library used for scientific computing and technical  computing. It is a collection of mathematical algorithms and convenience functions built on the  NumPy extension of Python \n",
        "NumPy is the fundamental package for scientific computing in Python. ....NumPy arrays facilitate advanced mathematical and other types of operations on large numbers of data. \n",
        "Matplotlib is a plotting library for the Python programming language and its numerical mathematics extension NumPy. It provides an object-oriented API for embedding plots into  applications using general-purpose GUI toolkits like Tkinter, wxPython, Qt, or GTK \n",
        "Pandas is an open source Python package that is most widely used for data science/data  analysis and machine learning tasks. It is built on top of another package named Numpy, which  provides support for multi-dimensional arrays. \n",
        "Scikit-learn is probably the most useful library for machine learning in Python. The sklearn library contains a lot of eficient tools for machine learning and statistical modeling including  classification, regression, clustering and dimensionality reduction. \n",
        "Seaborn is a library in Python predominantly used for making statistical graphics. Seaborn is a  data visualization library built on top of matplotlib and closely integrated with pandas data  structures in Python \n"
      ]
    },
    {
      "cell_type": "markdown",
      "metadata": {
        "id": "my6KkW7rJhBR"
      },
      "source": [
        "NUMPY"
      ]
    },
    {
      "cell_type": "code",
      "metadata": {
        "id": "YOBuue35-r96"
      },
      "source": [
        " #Phython version  \n",
        "import sys \n",
        "print('Python: {}'.format(sys.version)) \n",
        "#scipy  \n",
        "import scipy \n",
        "print('scipy: {}'.format(scipy. version )) \n",
        "#numpy  \n",
        "import numpy\n",
        " \n",
        "print('numpy: {}'.format(numpy. version )) \n",
        "#matplotib  \n",
        "import matplotlib \n",
        "print('matplotib: {}'.format(matplotlib. version )) \n",
        "#pandas  \n",
        "import pandas \n",
        "print('pandas: {}'.format(pandas. version )) \n",
        "#scikit-learn  \n",
        "import sklearn \n",
        "print('sklearn: {}'.format(sklearn. version )) \n",
        "#seaborn  \n",
        "import seaborn \n",
        "print('seaborn: {}'.format(seaborn. version ))  import urllib \n",
        "print('urlib: {}'.format(urllib. name ))  \n",
        "import csv \n",
        "print('csv: {}'.format(csv. version )) \n",
        "Python: 3.7.11 (default, Jul 3 2021, 18:01:19) [GCC 7.5.0] \n",
        "scipy: 1.4.1 \n",
        "numpy: 1.19.5 \n",
        "matplotib: 3.2.2 \n",
        "pandas: 1.1.5  \n",
        "sklearn: 0.22.2.post1  \n",
        "seaborn: 0.11.1  \n",
        "urlib: urllib \n",
        "csv: 1.0 \n",
        "NumPy \n",
        "import numpy as np  \n",
        "a=np.array([0,1,2])  \n",
        "print(type(a))  \n",
        "print(a.shape)  \n",
        "print(a[0]) \n",
        "print(a[1]) \n",
        "print(a[2])  \n",
        "a[0]=5 \n",
        "print(a) \n",
        "<class 'numpy.ndarray'>  \n",
        "(3,) \n",
        "0 \n",
        "1 \n",
        "2 \n",
        "[5 1 2]\n",
        "\n",
        "import numpy as np  \n",
        "b=np.array([[0,1,2],[3,4,5]]) \n",
        "print(b.shape)  \n",
        "print(b) \n",
        "print(b[0,0],b[0,1],b[1,0]) \n",
        "(2, 3) \n",
        "[[0 1 2] \n",
        "[3 4 5]] \n",
        "0 1 3 \n",
        "import numpy as np  \n",
        "a=np.zeros((3,3))  \n",
        "print(a) \n",
        "[[0. 0. 0.] \n",
        "[0. 0. 0.] \n",
        "[0. 0. 0.]] \n",
        "import numpy as np  \n",
        "b=np.ones((2,2))  \n",
        "print(b) \n",
        "[[1. 1.] \n",
        "[1. 1.]] \n",
        "import numpy as np  \n",
        "c=np.full((3,3),7)  \n",
        "print(c) \n",
        "[[7 7 7] \n",
        "[7 7 7] \n",
        "[7 7 7]] \n",
        "import numpy as np  \n",
        "d=np.random.random((3,3))  \n",
        "print(d) \n",
        "[[0.81016965 0.93708625 0.64555727] [0.69457725 0.87169481 0.89364639] [0.10066267 0.41921179 0.16202094]] \n",
        "import numpy as np  \n",
        "e=np.eye(3)  \n",
        "print(e) \n",
        "[[1. 0. 0.] \n",
        "[0. 1. 0.] \n",
        "[0. 0. 1.]] \n",
        "import numpy as np\n",
        " \n",
        "f=np.array([2,3,1,0])  \n",
        "print(f) \n",
        "[2 3 1 0] \n",
        "import numpy as np  \n",
        "g=np.arange(2,10)  \n",
        "print(g) \n",
        "[2 3 4 5 6 7 8 9] \n",
        "import numpy as np  \n",
        "h=np.array([[0,1,2.0],[0,0,0],(1+1j,3.,2.)]) print(h) \n",
        "[[0.+0.j 1.+0.j 2.+0.j] \n",
        "[0.+0.j 0.+0.j 0.+0.j] \n",
        "[1.+1.j 3.+0.j 2.+0.j]] \n",
        "import numpy as np  \n",
        "i=np.arange(1,8,dtype=np.float)  print(i) \n",
        "[1. 2. 3. 4. 5. 6. 7.] \n",
        "import numpy as np  \n",
        "j=np.linspace(2.,4., 5)  \n",
        "print(j) \n",
        "[2. 2.5 3. 3.5 4. ] \n",
        "import numpy as np  \n",
        "k=np.indices((3,3))  \n",
        "print(k) \n",
        "[[[0 0 0] \n",
        "[1 1 1] \n",
        "[2 2 2]] \n",
        "[[0 1 2] \n",
        "[0 1 2] \n",
        "[0 1 2]]] \n",
        "import numpy as np  \n",
        "x=np.array([0,1]) \n",
        "y=np.array([2.0,3.0])  \n",
        "z=np.array([5,6], dtype=np.int64)  print(x.dtype,y.dtype,z.dtype) \n",
        "int64 float64 int64 \n",
        "import numpy as np  \n",
        "x=np array([5 6 7 8 9])\n",
        "https://colab.research.google.com/drive/15Ilt0v0DcgePNNXVQqZ44BavYiiGFhVl#scrollTo=cz7tUzy8UR8r&printMode=true 42/61 \n",
        "9/5/2021 Poojitha-20A25A0508-phython lab programs.ipynab - Colaboratory \n",
        "print(x[1:7:2]) \n",
        "print(x[-2:5]) \n",
        "print(x[-1:1:-1]) \n",
        "[6 8] \n",
        "[8 9] \n",
        "[9 8 7] \n",
        "import numpy as np  \n",
        "a=np.array([[1,2],[3,4],[5,6]]) print(a>2)  \n",
        "print(a[a>2]) \n",
        "[[False False]  \n",
        "[ True True]  \n",
        "[ True True]] \n",
        "[3 4 5 6] \n",
        "import numpy as np  \n",
        "x=np.array([[1,2],[3,4],[5,6]]) y=np.array([[7,8],[9,10],[11,12]]) print(x+y)  \n",
        "print(np.add(x,y))  \n",
        "print(x-y)  \n",
        "print(np.subtract(x,y)) \n",
        "[[ 8 10] \n",
        "[12 14] \n",
        "[16 18]] \n",
        "[[ 8 10] \n",
        "[12 14] \n",
        "[16 18]] \n",
        "[[-6 -6] \n",
        "[-6 -6] \n",
        "[-6 -6]] \n",
        "[[-6 -6] \n",
        "[-6 -6] \n",
        "[-6 -6]] \n",
        "import numpy as np  \n",
        "x=np.array([[1,2],[3,4],[5,6]]) y=np.array([[7,8],[9,10],[11,12]]) print(np.multiply(x,y))  \n",
        "print(x*y) \n",
        "[[ 7 16] \n",
        "[27 40] \n",
        "[55 72]] \n",
        "[[ 7 16] \n",
        "[27 40] \n",
        "[55 72]] \n",
        "import numpy as np  \n",
        "x=np.array([[1,2],[3,4],[5,6]]) y=np.array([[7,8],[9,10],[11,12]])\n",
        "print(np.divide(x,y))  \n",
        "print(x/y) \n",
        "[[0.14285714 0.25 ] \n",
        "[0.33333333 0.4 ] \n",
        "[0.45454545 0.5 ]] \n",
        "[[0.14285714 0.25 ] \n",
        "[0.33333333 0.4 ] \n",
        "[0.45454545 0.5 ]] \n",
        "import numpy as np  \n",
        "x=np.array([[1,2],[3,4],[5,6]]) print(np.sqrt(x)) \n",
        "[[1. 1.41421356] \n",
        "[1.73205081 2. ] \n",
        "[2.23606798 2.44948974]] \n",
        "import numpy as np  \n",
        "a=np.array([9,10]) \n",
        "b=np.array([11,12]) \n",
        "print(a.dot(b)) \n",
        "print(np.dot(a,b)) \n",
        "219 \n",
        "219 \n",
        "import numpy as np  \n",
        "a=np.array([9,10])  \n",
        "x=np.array([[1,2],[3,4]])  \n",
        "print(x.dot(a)) \n",
        "print(np.dot(x,a)) \n",
        "[29 67] \n",
        "[29 67] \n",
        "import numpy as np  \n",
        "x=np.array([[1,2],[3,4]]) \n",
        "y=np.array([[5,6],[7,8]])  \n",
        "print(x.dot(y)) \n",
        "print(np.dot(x,y)) \n",
        "[[19 22] \n",
        "[43 50]] \n",
        "[[19 22] \n",
        "[43 50]] \n",
        "import numpy as np  \n",
        "x=np.array([[1,2],[3,4]])  \n",
        "print(np.sum(x))  \n",
        "print(np.sum(x,axis=0))  \n",
        "print(np.sum(x,axis=1))\n",
        "https://colab.research.google.com/drive/15Ilt0v0DcgePNNXVQqZ44BavYiiGFhVl#scrollTo=cz7tUzy8UR8r&printMode=true 44/61 \n",
        "9/5/2021 Poojitha-20A25A0508-phython lab programs.ipynab - Colaboratory \n",
        "10 \n",
        "[4 6] \n",
        "[3 7] \n",
        "import numpy as np  \n",
        "x=np.array([[1,2],[3,4]])  \n",
        "print(x) \n",
        "print(x.T) \n",
        "[[1 2] \n",
        "[3 4]] \n",
        "[[1 3] \n",
        "[2 4]] \n",
        "import numpy as np  \n",
        "v=np.array([1,2,3])  \n",
        "print(v) \n",
        "print(v.T) \n",
        "[1 2 3] \n",
        "[1 2 3] \n",
        "import numpy as np  \n",
        "a=np.array([[1,2,3],[4,5,6],[7,8,9]]) v=np.array([1,0,1])  \n",
        "b=a+v \n",
        "print(b) \n",
        "[[ 2 2 4] \n",
        "[ 5 5 7] \n",
        "[ 8 8 10]] \n",
        "import numpy as np  \n",
        "x=np.array([[1,2,1],[3,4,1]]) print(\"X.T:\\n\",x.T) \n",
        "w=np.array([1,1]) \n",
        "print(\"W:\\n\",w)  \n",
        "print(\"Final :\\n\",(x.T+w).T) \n",
        "X.T: \n",
        "[[1 3] \n",
        "[2 4] \n",
        "[1 1]]  \n",
        "W: \n",
        "[1 1] \n",
        "Final :  \n",
        "[[2 3 2] \n",
        "[4 5 2]] \n",
        "import numpy as np  \n",
        "x=np.array([[1,2,1],[3,4,1]]) \n",
        "print(x*2) \n",
        "[[2 4 2] \n",
        "[6 8 2]] \n",
        "import numpy as np  \n",
        "np.random.rand(3,2) \n",
        "array([[0.10074037, 0.27068697], \n",
        "[0.48588216, 0.77310637], \n",
        "[0.5907359 , 0.25493591]]) \n",
        "import numpy as np  \n",
        "np.random.rand(10) \n",
        "array([0.18952105, 0.81924627, 0.98824282, 0.0406113 , 0.81100701, 0.24091875, 0.96118339, 0.87948378, 0.96721396, 0.09074509]) \n",
        "import random \n",
        "print (random.randint(0,9)) \n",
        "\n"
      ],
      "execution_count": null,
      "outputs": []
    },
    {
      "cell_type": "markdown",
      "metadata": {
        "id": "DzIvezsvJjvT"
      },
      "source": [
        "PANDAS"
      ]
    },
    {
      "cell_type": "markdown",
      "metadata": {
        "id": "4cwWSwXcJmB_"
      },
      "source": [
        "1.creating Series"
      ]
    },
    {
      "cell_type": "code",
      "metadata": {
        "id": "V70l6M9WJ1r0"
      },
      "source": [
        "import pandas as pd \n",
        "s=pd.Series([1,2,3,4,5],index=['A','B','C','D','E']) \n",
        "s \n",
        "A 1 \n",
        "B 2 \n",
        "C 3 \n",
        "D 4 \n",
        "E 5 \n",
        "dtype: int64 \n"
      ],
      "execution_count": null,
      "outputs": []
    },
    {
      "cell_type": "markdown",
      "metadata": {
        "id": "hGLvBR_cKTjH"
      },
      "source": [
        "2.Data Frames"
      ]
    },
    {
      "cell_type": "code",
      "metadata": {
        "id": "sufxDXRfKiYC"
      },
      "source": [
        "import pandas as pd  \n",
        "data={'Gen':['F','M','M'],'EiD':['E01','E02','E03'],'Age':[25,45,38]} \n",
        "df=pd.DataFrame(data,columns=['EiD','Age','Gen'])  \n",
        "print(df) \n",
        "EiD Age Gen\n",
        " \n",
        "0 E01 25 F \n",
        "1 E02 45 M \n",
        "2 E03 38 M \n",
        "import pandas as pd \n",
        "from numpy import loadtxt \n",
        "from urllib.request import urlopen  \n",
        "url='https://raw.githubusercontent.com/jbrownlee/datasets/master/pima-indians-diabetes.data.csv' \n",
        "raw_data=pd.read_csv(urlopen(url))  \n",
        "raw_data.shape \n",
        "(767, 9) \n",
        "raw_data.head() \n",
        "6 148 72 35 0 33.6 0.627 50 1 \n",
        "0 1 85 66 29 0 26.6 0.351 31 0 \n",
        "1 8 183 64 0 0 23.3 0.672 32 1 \n",
        "2 1 89 66 23 94 28.1 0.167 21 0 \n",
        "3 0 137 40 35 168 43.1 2.288 33 1 \n",
        "4 5 116 74 0 0 25.6 0.201 30 0 \n",
        "raw_data.tail() \n",
        "6 148 72 35 0 33.6 0.627 50 1 \n",
        "762 10 101 76 48 180 32.9 0.171 63 0 \n",
        "763 2 122 70 27 0 36.8 0.340 27 0 \n",
        "764 5 121 72 23 112 26.2 0.245 30 0 \n",
        "765 1 126 60 0 0 30.1 0.349 47 1 \n",
        "766 1 93 70 31 0 30.4 0.315 23 0 \n",
        "raw_data.head(25)\n",
        "\n",
        "6 148 72 35 0 33.6 0.627 50 1 \n",
        "0 1 85 66 29 0 26.6 0.351 31 0 \n",
        "1 8 183 64 0 0 23.3 0.672 32 1 \n",
        "2 1 89 66 23 94 28.1 0.167 21 0 \n",
        "3 0 137 40 35 168 43.1 2.288 33 1 \n",
        "4 5 116 74 0 0 25.6 0.201 30 0 \n",
        "5 3 78 50 32 88 31.0 0.248 26 1 \n",
        "6 10 115 0 0 0 35.3 0.134 29 0 \n",
        "7 2 197 70 45 543 30.5 0.158 53 1 \n",
        "8 8 125 96 0 0 0.0 0.232 54 1 \n",
        "9 4 110 92 0 0 37.6 0.191 30 0 \n",
        "10 10 168 74 0 0 38.0 0.537 34 1 \n",
        "11 10 139 80 0 0 27.1 1.441 57 0 \n",
        "12 1 189 60 23 846 30.1 0.398 59 1 \n",
        "13 5 166 72 19 175 25.8 0.587 51 1 \n",
        "14 7 100 0 0 0 30.0 0.484 32 1 \n",
        "15 0 118 84 47 230 45.8 0.551 31 1 \n",
        "16 7 107 74 0 0 29.6 0.254 31 1 \n",
        "17 1 103 30 38 83 43.3 0.183 33 0 \n",
        "18 1 115 70 30 96 34.6 0.529 32 1 \n",
        "19 3 126 88 41 235 39.3 0.704 27 0 \n",
        "raw_data.describe() \n",
        "20 8 99 84 0 0 35.4 0.388 50 0 \n",
        "21 7 196 90 0 0 39.8 0.451 41 1 \n",
        "6 148 72 35 0 33.6 0.627 \n",
        "22 9 119 80 35 0 29.0 0.263 29 1 \n",
        "count 767.000000 767.000000 767.000000 767.000000 767.000000 767.000000 767.000000 767. 23 11 143 94 33 146 36.6 0.254 51 1 \n",
        "mean 3.842243 120.859192 69.101695 20.517601 79.903520 31.990482 0.471674 33. 24 10 125 70 26 115 31.1 0.205 41 1 \n",
        "std 3.370877 31.978468 19.368155 15.954059 115.283105 7.889091 0.331497 11. min 0.000000 0.000000 0.000000 0.000000 0.000000 0.000000 0.078000 21. 25% 1.000000 99.000000 62.000000 0.000000 0.000000 27.300000 0.243500 24. 50% 3.000000 117.000000 72.000000 23.000000 32.000000 32.000000 0.371000 29. 75% 6.000000 140.000000 80.000000 32.000000 127.500000 36.600000 0.625000 41. max 17.000000 199.000000 122.000000 99.000000 846.000000 67.100000 2.420000 81. \n",
        "raw_data.cov()\n",
        " \n",
        "6 148 72 35 0 33.6 0.627 \n",
        "6 11.362809 13.888985 9.218414 -4.436515 -28.367721 0.465859 -0.037912 21 148 13.888985 1022.622445 94.451675 28.764884 1225.357154 55.742783 1.451278 98 72 9.218414 94.451675 375.125415 64.058260 198.939328 43.054755 0.264396 54 35 -4.436515 28.764884 64.058260 254.532001 805.536948 49.407935 0.970472 -21 0 -28.367721 1225.357154 198.939328 805.536948 13290.194335 180.177540 7.092087 -55 \n",
        "33.6 0.465859 55.742783 43.054755 49.407935 180.177540 62.237755 0.367558 3 0.627 -0.037912 1.451278 0.264396 0.970472 7.092087 0.367558 0.109890 0 50 21.551571 98.618350 54.531221 -21.725792 -55.469702 3.329503 0.127544 138 1 0.355250 7.101300 0.599018 0.557181 7.252951 1.100707 0.027376 1 \n",
        "raw_data.corr() \n",
        "6 148 72 35 0 33.6 0.627 50 \n",
        "6 1.000000 0.128846 0.141197 -0.082495 -0.072999 0.017518 -0.033927 0.544018 0.221 148 0.128846 1.000000 0.152498 0.056381 0.332383 0.220955 0.136903 0.262408 0.465 72 0.141197 0.152498 1.000000 0.207308 0.089098 0.281777 0.041180 0.239571 0.064 35 -0.082495 0.056381 0.207308 1.000000 0.437974 0.392553 0.183498 -0.115873 0.073 0 -0.072999 0.332383 0.089098 0.437974 1.000000 0.198111 0.185579 -0.040942 0.131 \n",
        "33.6 0.017518 0.220955 0.281777 0.392553 0.198111 1.000000 0.140546 0.035911 0.292 0.627 -0.033927 0.136903 0.041180 0.183498 0.185579 0.140546 1.000000 0.032738 0.173 50 0.544018 0.262408 0.239571 -0.115873 -0.040942 0.035911 0.032738 1.000000 0.236 1 0.221087 0.465856 0.064882 0.073265 0.131984 0.292695 0.173245 0.236417 1.000 \n",
        "from sklearn.datasets import load_iris  \n",
        "import numpy as np \n",
        "iris=load_iris()  \n",
        "iris \n",
        "{'DESCR': '.. _iris_dataset:\\n\\nIris plants dataset\\n--------------------\\n\\n**Data Set Characteristics:**\\n\\n :Num  'data': array([[5.1, 3.5, 1.4, 0.2], \n",
        "[4.9, 3. , 1.4, 0.2], \n",
        "[4.7, 3.2, 1.3, 0.2], \n",
        "[4.6, 3.1, 1.5, 0.2], \n",
        "[5. , 3.6, 1.4, 0.2], \n",
        "[5.4, 3.9, 1.7, 0.4], \n",
        "[4.6, 3.4, 1.4, 0.3], \n",
        "[5. , 3.4, 1.5, 0.2], \n",
        "[4.4, 2.9, 1.4, 0.2], \n",
        "[4.9, 3.1, 1.5, 0.1], \n",
        "[5.4, 3.7, 1.5, 0.2], \n",
        "[4.8, 3.4, 1.6, 0.2],\n",
        " \n",
        "[4.8, 3. , 1.4, 0.1], \n",
        "[4.3, 3. , 1.1, 0.1], \n",
        "[5.8, 4. , 1.2, 0.2], \n",
        "[5.7, 4.4, 1.5, 0.4], \n",
        "[5.4, 3.9, 1.3, 0.4], \n",
        "[5.1, 3.5, 1.4, 0.3], \n",
        "[5.7, 3.8, 1.7, 0.3], \n",
        "[5.1, 3.8, 1.5, 0.3], \n",
        "[5.4, 3.4, 1.7, 0.2], \n",
        "[5.1, 3.7, 1.5, 0.4], \n",
        "[4.6, 3.6, 1. , 0.2], \n",
        "[5.1, 3.3, 1.7, 0.5], \n",
        "[4.8, 3.4, 1.9, 0.2], \n",
        "[5. , 3. , 1.6, 0.2], \n",
        "[5. , 3.4, 1.6, 0.4], \n",
        "[5.2, 3.5, 1.5, 0.2], \n",
        "[5.2, 3.4, 1.4, 0.2], \n",
        "[4.7, 3.2, 1.6, 0.2], \n",
        "[4.8, 3.1, 1.6, 0.2], \n",
        "[5.4, 3.4, 1.5, 0.4], \n",
        "[5.2, 4.1, 1.5, 0.1], \n",
        "[5.5, 4.2, 1.4, 0.2], \n",
        "[4.9, 3.1, 1.5, 0.2], \n",
        "[5. , 3.2, 1.2, 0.2], \n",
        "[5.5, 3.5, 1.3, 0.2], \n",
        "[4.9, 3.6, 1.4, 0.1], \n",
        "[4.4, 3. , 1.3, 0.2], \n",
        "[5.1, 3.4, 1.5, 0.2], \n",
        "[5. , 3.5, 1.3, 0.3], \n",
        "[4.5, 2.3, 1.3, 0.3], \n",
        "[4.4, 3.2, 1.3, 0.2], \n",
        "[5. , 3.5, 1.6, 0.6], \n",
        "[5.1, 3.8, 1.9, 0.4], \n",
        "[4.8, 3. , 1.4, 0.3], \n",
        "[5.1, 3.8, 1.6, 0.2], \n",
        "[4.6, 3.2, 1.4, 0.2], \n",
        "[5.3, 3.7, 1.5, 0.2], \n",
        "[5. , 3.3, 1.4, 0.2], \n",
        "[7. , 3.2, 4.7, 1.4], \n",
        "[6.4, 3.2, 4.5, 1.5], \n",
        "[6.9, 3.1, 4.9, 1.5], \n",
        "[5.5, 2.3, 4. , 1.3], \n",
        "[6.5, 2.8, 4.6, 1.5], \n",
        "[5.7, 2.8, 4.5, 1.3], \n",
        "[6.3, 3.3, 4.7, 1.6], \n",
        "X=pd.DataFrame(iris.data)  X\n",
        "\n",
        "0 1 2 3 \n",
        "0 5.1 3.5 1.4 0.2 \n",
        "1 4.9 3.0 1.4 0.2 \n",
        "2 4.7 3.2 1.3 0.2 \n",
        "3 4.6 3.1 1.5 0.2 \n",
        "4 5.0 3.6 1.4 0.2 \n",
        "... ... ... ... ... \n",
        "145 6.7 3.0 5.2 2.3 X.shape  \n",
        "\n",
        "(150,4) \n",
        "146 6.3 2.5 5.0 1.9 \n",
        "\n",
        "X.columns=['Sepal_length','Sepal_width','petal_length','petal_width']  \n",
        "147 6.5 3.0 5.2 2.0 \n",
        "X.head() \n",
        "148 6.2 3.4 5.4 2.3 \n",
        "Sepal_length Sepal_width petal_length petal_width 149 5.9 3.0 5.1 1.8 \n",
        "0 5.1 3.5 1.4 0.2 150 rows × 4 columns \n",
        "1 4.9 3.0 1.4 0.2 2 4.7 3.2 1.3 0.2 3 4.6 3.1 1.5 0.2 4 5.0 3.6 1.4 0.2 \n",
        "X.tail() \n",
        "Sepal_length Sepal_width petal_length petal_width 145 6.7 3.0 5.2 2.3 146 6.3 2.5 5.0 1.9 147 6.5 3.0 5.2 2.0 148 6.2 3.4 5.4 2.3 149 5.9 3.0 5.1 1.8 \n",
        "X.describe()\n",
        "\n",
        "\n",
        "X.cov() X.corr() \n",
        "Sepal_length Sepal_width petal_length petal_width count 150.000000 150.000000 150.000000 150.000000 mean 5.843333 3.057333 3.758000 1.199333 \n",
        "std 0.828066 0.435866 1.765298 0.762238 \n",
        "min 4.300000 2.000000 1.000000 0.100000 Sepal_length Sepal_width petal_length petal_width 25% 5.100000 2.800000 1.600000 0.300000 Sepal_length 0.685694 -0.042434 1.274315 0.516271 50% 5.800000 3.000000 4.350000 1.300000 Sepal_width -0.042434 0.189979 -0.329656 -0.121639 75% 6.400000 3.300000 5.100000 1.800000 petal_length 1.274315 -0.329656 3.116278 1.295609 max 7.900000 4.400000 6.900000 2.500000 petal_width 0.516271 -0.121639 1.295609 0.581006 \n",
        "Sepal_length Sepal_width petal_length petal_width Sepal_length 1.000000 -0.117570 0.871754 0.817941 Sepal_width -0.117570 1.000000 -0.428440 -0.366126 petal_length 0.871754 -0.428440 1.000000 0.962865 petal_width 0.817941 -0.366126 0.962865 1.000000 \n",
        "\n",
        "import numpy as np  \n",
        "df=pd.DataFrame({'Name':['Gayathri','Tulasi','Keerthi','Lucky'],'state':['IND','USA','UK','USSR'],'Grade':['A','A','B','C'],'Age':np.  print(df) \n",
        "Name state Grade Age salary \n",
        "0 Gayathri IND A 30.906880 3595.154133 \n",
        "1 Tulasi USA A 34.991981 4261.790535 \n",
        "2 Keerthi UK B 33.773451 4475.564708 \n",
        "3 lucky USSR C 33.556051 3680.246936 \n",
        "import numpy as np  \n",
        "import pandas as pd \n",
        "df=pd.DataFrame({'Name':['Gayathri','Tulasi','keerthi','lucky'],'state':['IND','USA','UK','USSR'],'Grade':['A','A','B','C'],'Age':np.  df.groupby(['Name','state']).max()\n",
        "\n"
      ],
      "execution_count": null,
      "outputs": []
    },
    {
      "cell_type": "markdown",
      "metadata": {
        "id": "HRvyypElQmQw"
      },
      "source": [
        "SCIPY"
      ]
    },
    {
      "cell_type": "code",
      "metadata": {
        "id": "URjIzNkCRN93"
      },
      "source": [
        "lucky USSR C 29.794042 4609.179273 \n",
        "keerthi UK B 26.926079 3885.134254 import numpy as np  \n",
        "np.linspace(1.,4.,6) \n",
        "Tulasi USA A 29.096474 3512.814611 array([1. , 1.6, 2.2, 2.8, 3.4, 4. ]) \n",
        "Gayathri IND A 26.294071 3363.990431 \n",
        "from scipy.cluster.vq importkmeans,vq,whiten  from numpy import vstack,array \n",
        "from numpy.random import rand \n",
        "data=vstack((rand(100,3)+array([.5,.5,.5]),rand(100,3)))  data \n",
        "array([[0.90258909, 0.9233607 , 0.78273525], [0.59467738, 1.02911659, 0.88358223], \n",
        "[0.92905869, 0.80844347, 0.82420722], \n",
        "[1.06828604, 0.81638002, 0.88543623], \n",
        "[0.76992404, 1.26167714, 1.10877409], \n",
        "[0.94258935, 1.0448952 , 1.06661058], \n",
        "[0.58711959, 0.74227861, 0.79150924], \n",
        "[1.19399041, 1.33268416, 0.61880348], \n",
        "[1.44290692, 1.36136538, 0.78877052], \n",
        "[1.03774349, 0.6544453 , 0.51597171], \n",
        "[0.85270142, 1.09004265, 1.46484699], \n",
        "[1.49274988, 1.22665456, 0.61984447], \n",
        "[1.40821041, 1.41990694, 1.30399566], \n",
        "[1.15292093, 1.47797535, 1.49433546], \n",
        "[1.23392988, 1.28656044, 1.19497233], \n",
        "[1.30474702, 1.17295312, 0.99283884], \n",
        "[1.11447917, 1.05786207, 1.20734399], \n",
        "[0.57127275, 1.00986092, 0.7823292 ], \n",
        "[0.65881379, 0.5586953 , 1.19068023], \n",
        "[0.63549054, 1.43347337, 1.20934843], \n",
        "[1.29225155, 1.18181672, 1.02012635], \n",
        "[1.29555226, 0.97626639, 1.485882 ], \n",
        "[0.64667569, 0.69919071, 1.1864496 ], \n",
        "[0.93023392, 0.91972667, 1.2469598 ], \n",
        "[0.82753469, 0.96163331, 1.01320967], \n",
        "[1.49970107, 0.50047758, 1.2111403 ], \n",
        "[1.01357654, 0.87647747, 1.24656772], \n",
        "[1.45615945, 1.42696013, 0.62253123], \n",
        "[1.06189792, 1.49445231, 0.63966425], \n",
        "[0.84649455, 1.35510061, 1.48476767], \n",
        "[0.97081189, 1.29297546, 1.26874188], \n",
        "[1.20442852, 0.91949897, 0.88777343], \n",
        "[0.95969091, 0.73892865, 0.5579961 ], \n",
        "[0.74723184, 0.59132549, 0.66483177], \n",
        "[0.5757808 , 0.77717716, 1.23873048], \n",
        "[1.21637942, 1.30881095, 1.14530707], \n",
        "[0.66188824, 1.04102459, 0.62415182], \n",
        "[1.48653083, 0.93795358, 1.32296478], \n",
        "[0.76699392, 1.14114594, 0.70449482], \n",
        "[0.9997548 , 0.87533817, 0.8307093 ], \n",
        " [1.25160065, 0.83891044, 0.55252769], \n",
        "[0.53980197, 0.53559352, 0.70849509], \n",
        "[0.84755593, 1.30884233, 1.11748818], \n",
        "[0.61598479, 0.92493323, 0.62984949], \n",
        "[0.58814621, 1.43817664, 1.00232063], \n",
        "[1.02392348, 0.98574837, 0.83436041], \n",
        "[1.16143734, 0.63678783, 0.60890533], \n",
        "[1.45800622, 1.31447604, 1.20930403], \n",
        "[1.14004837, 0.94355688, 0.59025659], \n",
        "[0.98340077, 1.04390078, 0.6218841 ], \n",
        "[1.07777382, 1.41688591, 0.86597751], \n",
        "[1.17337323, 0.68930459, 0.54606734], \n",
        "[0.78309997, 0.70960006, 0.8653093 ], \n",
        "[0.8879114 , 0.83011562, 1.24778146], \n",
        "[0.85948029, 1.14241534, 0.91087691], \n",
        "[1.13946389, 1.28495366, 1.23643912], \n",
        "[1.26684229, 0.52693652, 1.4311785 ], \n",
        "[1.15827702, 1.1111431 , 0.63416144], \n",
        "[0 63860458 0 71161294 0 94442562] \n",
        "data=whiten(data)  \n",
        "data \n",
        "array([[2.41005477, 2.35350275, 2.07361492], [1.58788209, 2.62305806, 2.3407778 ], \n",
        "[2.48073275, 2.06059662, 2.18348208], \n",
        "[2.85249166, 2.08082566, 2.3456894 ], \n",
        "[2.05581824, 3.21581873, 2.93735398], \n",
        "[2.51686174, 2.66327528, 2.82565481], \n",
        "[1.56770161, 1.89195269, 2.0968589 ], \n",
        "[3.18814209, 3.39680457, 1.6393284 ], \n",
        "[3.85278831, 3.46990853, 2.08960349], \n",
        "[2.77093826, 1.66807923, 1.36690744], \n",
        "[2.27684685, 2.77834912, 3.88065898], \n",
        "[3.98587685, 3.12655163, 1.64208619], \n",
        "[3.76014317, 3.61912187, 3.45453314], \n",
        "[3.07848012, 3.76712921, 3.95877954], \n",
        "[3.29478676, 3.27924238, 3.16570954], \n",
        "[3.48387965, 2.98967501, 2.63021939], \n",
        "[2.97583459, 2.69632582, 3.19848443], \n",
        "[1.52538804, 2.57397835, 2.07253921], \n",
        "[1.7591364 , 1.4240274 , 3.15433895], \n",
        "[1.69685964, 3.65370059, 3.20379458], \n",
        "[3.4505148 , 3.01226693, 2.70250922], \n",
        "[3.4593282 , 2.48835113, 3.93638472], \n",
        "[1.72672576, 1.78212834, 3.14313121], \n",
        "[2.48387081, 2.34424019, 3.30343427], \n",
        "[2.20964773, 2.45105368, 2.68418561], \n",
        "[4.00443763, 1.27563948, 3.20854158], \n",
        "[2.70640872, 2.2340047 , 3.30239558], \n",
        "[3.88817466, 3.63709936, 1.64920393], \n",
        "[2.83543439, 3.80912642, 1.69459257], \n",
        "[2.26027353, 3.45394063, 3.93343266], \n",
        "[2.59222038, 3.29559328, 3.36113915], \n",
        "[3.21601348, 2.3436598 , 2.35188108], \n",
        "[2.56252561, 1.88341416, 1.47823807], \n",
        "[1.99522648, 1.50719667, 1.76126611], \n",
        "[1.53742525, 1.98090367, 3.28163322], \n",
        "[3.24792426, 3.33595546, 3.03413679], \n",
        "[1.76734565, 2.65340972, 1.65349718], \n",
        "[3.969271 , 2.39069774, 3.50478595],\n",
        "\n",
        "[2.04799434, 2.90860345, 1.86634109], \n",
        "[2.6695025 , 2.23110081, 2.20070732], \n",
        "[3.34197049, 2.13825218, 1.46375119], \n",
        "[1.44135611, 1.36514455, 1.87693857], \n",
        "[2.26310759, 3.33603546, 2.96043926], \n",
        "[1.64477621, 2.3575109 , 1.66859139], \n",
        "[1.57044285, 3.6656885 , 2.65533846], \n",
        "[2.73403665, 2.51251922, 2.2103798 ], \n",
        "[3.10122028, 1.6230731 , 1.61310632], \n",
        "[3.89310582, 3.35039492, 3.20367694], \n",
        "[3.04410837, 2.40497968, 1.56370224], \n",
        "[2.62583465, 2.66074068, 1.64748957], \n",
        "[2.87782553, 3.61142174, 2.29413954], \n",
        "[3.13309098, 1.75693014, 1.4466365 ], \n",
        "[2.09100003, 1.80866015, 2.29236931], \n",
        "[2.37086304, 2.11583557, 3.305611 ], \n",
        "[2.2949475 , 2.91183896, 2.4130866 ], \n",
        "[3.04254773, 3.27514695, 3.27556299], \n",
        "[3.38266806, 1.34307921, 3.79146473], \n",
        "[3.09278173, 2.83213089, 1.68001457], \n",
        "[1.70517462, 1.81379067, 2.50196355], \n",
        "centroids,_=kmeans(data,3)  \n",
        "centroids \n",
        "array([[2.87117126, 2.87609742, 2.77016224], \n",
        "[1.80705689, 1.52016619, 2.1138557 ], \n",
        "[1.13101776, 1.2148155 , 0.80648608]]) \n",
        "clx,_=vq(data,centroids)  \n",
        "clx \n",
        "array([0, 1, 1, 0, 0, 0, 1, 0, 0, 1, 0, 0, 0, 0, 0, 0, 0, 1, 1, 0, 0, 0, 1, 0, 0, 0, 0, 0, 0, 0, 0, 0, 1, 1, 1, 0, 1, 0, 0, 0, 0, 1, 0, 1, \n",
        "0, 0, 1, 0, 0, 0, 0, 1, 1, 0, 0, 0, 0, 0, 1, 0, 0, 0, 0, 0, 0, 0, \n",
        "0, 0, 0, 0, 0, 1, 0, 1, 1, 0, 0, 0, 0, 0, 0, 1, 1, 0, 0, 0, 0, 0, \n",
        "1, 0, 1, 0, 0, 0, 0, 0, 0, 0, 0, 0, 1, 2, 1, 1, 2, 2, 1, 2, 1, 2, \n",
        "1, 1, 2, 2, 2, 1, 2, 2, 1, 2, 1, 2, 1, 2, 1, 1, 1, 1, 1, 2, 2, 2, \n",
        "1, 1, 2, 1, 1, 2, 2, 2, 1, 2, 1, 1, 2, 1, 1, 2, 2, 2, 2, 2, 1, 0, \n",
        "2, 1, 2, 2, 2, 2, 2, 1, 1, 2, 2, 1, 2, 2, 1, 1, 1, 2, 1, 2, 1, 1, \n",
        "2, 2, 2, 2, 2, 2, 2, 1, 2, 1, 1, 2, 2, 1, 1, 2, 2, 2, 2, 2, 1, 2, \n",
        "2, 2], dtype=int32) \n",
        "from scipy.fftpack import fft  \n",
        "x=np.array([1.0,2.0,1.0,-1.0,1.5]) \n",
        "y=fft(x)  \n",
        "print(\"FFT :\\n\",y) \n",
        "FFT : \n",
        "[ 4.5 -0.j 2.08155948-1.65109876j -1.83155948+1.60822041j -1.83155948-1.60822041j 2.08155948+1.65109876j] \n",
        "from scipy.fftpack import ifft  \n",
        "yinv=ifft(y) \n",
        "print(\"FFT Inverse:\\n\",yinv)\n",
        "\n",
        "FFT Inverse: \n",
        "[ 1. +0.j 2. +0.j 1. +0.j -1. +0.j 1.5+0.j] \n",
        "from scipy.fftpack import dct  \n",
        "print(\"DCT:\\n\",dct(np.array([4.,3.,5.,10.,5.,3.]))) \n",
        "DCT: \n",
        "[ 60. -3.48476592 -13.85640646 11.3137085 6. \n",
        "-6.31319305] \n",
        "from scipy.fftpack import idct  \n",
        "print(\"IDCT:\\n\",idct(np.array([4.,3.,5.,10.,5.,3.]))) \n",
        "IDCT: \n",
        "[ 39.15085889 -20.14213562 -6.45392043 7.13341236 8.14213562 -3.83035081] \n",
        "\n"
      ],
      "execution_count": null,
      "outputs": []
    },
    {
      "cell_type": "markdown",
      "metadata": {
        "id": "7Y_PDMJLSU6q"
      },
      "source": [
        "SciPy-Integrated \n",
        "The general form of quad is scipy.integrate.quad(f,a,b), Where 'f' is the name of the function to  be integrated. Whereas, 'a' and 'b' are the lower and upper limits, respectively. Let us see an  example of the Gaussian function, integrated over a range of 0 and 1\n"
      ]
    },
    {
      "cell_type": "markdown",
      "metadata": {
        "id": "zAY54uL4SZ0Y"
      },
      "source": [
        "∫f(x)dx \n"
      ]
    },
    {
      "cell_type": "code",
      "metadata": {
        "id": "XVOTb31sSaM2"
      },
      "source": [
        "import scipy.integrate  \n",
        "from numpy import exp  \n",
        "f=lambda x:exp(-x**2) \n",
        "i=scipy.integrate.quad(f,0,1)  \n",
        "print(i) \n",
        "(0.7468241328124271, 8.291413475940725e-15) \n"
      ],
      "execution_count": null,
      "outputs": []
    },
    {
      "cell_type": "markdown",
      "metadata": {
        "id": "5jZ37EamSlt4"
      },
      "source": [
        "Linear Algebra \n"
      ]
    },
    {
      "cell_type": "code",
      "metadata": {
        "id": "shEwZ5XVSmzG"
      },
      "source": [
        "from scipy import linalg  \n",
        "import numpy as np\n",
        "\n",
        "a=np.array([[1,3,5],[2,5,1],[2,3,8]]) \n",
        "b=np.array([10,8,3])  \n",
        "X=linalg.solve(a,b)  \n",
        "print(X) \n",
        "[-9.28 5.16 0.76] \n"
      ],
      "execution_count": null,
      "outputs": []
    },
    {
      "cell_type": "markdown",
      "metadata": {
        "id": "L6a_cCy9Sw9b"
      },
      "source": [
        "Finding an Determinant "
      ]
    },
    {
      "cell_type": "code",
      "metadata": {
        "id": "Mqm1LXhNTHCU"
      },
      "source": [
        "from scipy import linalg  \n",
        "import numpy as np \n",
        "A=np.array([[1,2],[3,4]]) \n",
        "x=linalg.det(A)  \n",
        "print(x) \n",
        "-2.0 \n"
      ],
      "execution_count": null,
      "outputs": []
    },
    {
      "cell_type": "code",
      "metadata": {
        "id": "Gay4rqzBTKwU"
      },
      "source": [
        "Eigen values and Eigen Vectors"
      ],
      "execution_count": null,
      "outputs": []
    },
    {
      "cell_type": "code",
      "metadata": {
        "id": "4oPaITTHTOjy"
      },
      "source": [
        "from scipy import linalg  \n",
        "import numpy as np \n",
        "A=np.array([[1,2],[3,4]]) \n",
        "l,v=linalg.eig(A)  \n",
        "print(\"Eigen Values :\\n\",l)  \n",
        "print(\"Eigen Vectors:\\n\",v) \n",
        "Eigen Values : \n",
        "[-0.37228132+0.j 5.37228132+0.j] \n",
        "Eigen Vectors: \n",
        "[[-0.82456484 -0.41597356] \n",
        "[ 0.56576746 -0.90937671]] \n"
      ],
      "execution_count": null,
      "outputs": []
    },
    {
      "cell_type": "code",
      "metadata": {
        "id": "zcdwOyuBTRr0"
      },
      "source": [
        "Matplot Library \n"
      ],
      "execution_count": null,
      "outputs": []
    },
    {
      "cell_type": "code",
      "metadata": {
        "id": "7N5FrusvTZgt"
      },
      "source": [
        "import matplotlib.pyplot as plt  \n",
        "import numpy as np\n",
        " \n",
        "x=np.arange(5)  \n",
        "y=(35,45,23,27,60) \n",
        "plt.bar(x,y)  \n",
        "plt.show() \n",
        "\n",
        "plt.scatter(x,y)  \n",
        "plt.show() \n",
        "\n",
        "import pandas as pd \n",
        "from sklearn.datasets import load_iris  \n",
        "iris=load_iris()  \n",
        "df=pd.DataFrame(iris.data) \n",
        "df.columns=['sepal_Length','sepal_Width','petal_Length','petal_Width']  df.head()\n",
        "\n",
        "\n",
        "df.hist() \n",
        "sepal_Length sepal_Width petal_Length petal_Width 0 5.1 3.5 1.4 0.2 \n",
        "\n",
        "plt.show() \n",
        "1 4.9 3.0 1.4 0.2 2 4.7 3.2 1.3 0.2 3 4.6 3.1 1.5 0.2 4 5.0 3.6 1.4 0.2 \n",
        "df.plot()  \n",
        "plt.show() \n",
        "\n",
        "df.boxplot()  \n",
        "plt.show()\n",
        "\n",
        "import numpy as np  \n",
        "x=np.linspace(0,20,1000)  \n",
        "y=np.sin(x) \n",
        "plt.plot(x,y,label='sample Label')  \n",
        "plt.title('sample plot title')  \n",
        "plt.xlabel('x axis label')  \n",
        "plt.ylabel('y axis label')  \n",
        "plt.grid(True) \n",
        "plt.figtext(0.5,0.01,'Fig1:Sinusodial', ha='right',va='bottom') \n",
        "plt.legend(loc='best',framealpha=0.5,prop={'size':'small'})  \n",
        "plt.tight_layout(pad=1) \n",
        "plt.show()\n",
        "\n"
      ],
      "execution_count": null,
      "outputs": []
    }
  ]
}